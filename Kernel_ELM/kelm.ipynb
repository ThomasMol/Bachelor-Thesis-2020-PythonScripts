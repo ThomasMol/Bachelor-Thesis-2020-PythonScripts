{
 "nbformat": 4,
 "nbformat_minor": 2,
 "metadata": {
  "language_info": {
   "name": "python",
   "codemirror_mode": {
    "name": "ipython",
    "version": 3
   },
   "version": "3.8.1-final"
  },
  "orig_nbformat": 2,
  "file_extension": ".py",
  "mimetype": "text/x-python",
  "name": "python",
  "npconvert_exporter": "python",
  "pygments_lexer": "ipython3",
  "version": 3,
  "kernelspec": {
   "name": "python38164bitc1b64a04908d4aa0af06e43278af8af3",
   "display_name": "Python 3.8.1 64-bit"
  }
 },
 "cells": [
  {
   "cell_type": "code",
   "execution_count": 1,
   "metadata": {},
   "outputs": [],
   "source": [
    "import pandas as pd\n",
    "import numpy as np\n",
    "import sklearn as sk\n",
    "import matplotlib\n",
    "import matplotlib.pyplot as plt\n",
    "import scipy\n",
    "from subprocess import call\n",
    "from IPython.display import Image\n",
    "from sklearn.model_selection import train_test_split\n",
    "from scipy import stats\n",
    "\n",
    "%matplotlib inline\n",
    "matplotlib.style.use('bmh')\n",
    "\n",
    "data_all_thomas = pd.read_excel('../annotations/data_all_thomas.xlsx')\n",
    "data_labels_video_features = pd.read_csv('../annotations/combined_labels_video_features.csv')\n",
    "labels = data_labels_video_features[['gold_gt_max_aro','gold_gt_max_like','gold_gt_max_val','gold_gt_min_aro','gold_gt_min_like','gold_gt_min_val']]\n",
    "labels_max = labels[['gold_gt_max_aro','gold_gt_max_like','gold_gt_max_val']]\n",
    "labels_min = labels[['gold_gt_min_aro','gold_gt_min_like','gold_gt_min_val']]\n",
    "video_features = data_labels_video_features.drop(['gold_gt_max_aro','gold_gt_max_like','gold_gt_max_val','gold_gt_min_aro','gold_gt_min_like','gold_gt_min_val'],axis=1)"
   ]
  },
  {
   "cell_type": "code",
   "execution_count": 2,
   "metadata": {},
   "outputs": [],
   "source": [
    "# Applying z normalization\n",
    "video_features = video_features.apply(stats.zscore)"
   ]
  },
  {
   "cell_type": "code",
   "execution_count": 3,
   "metadata": {},
   "outputs": [],
   "source": [
    "# Applying L2 normalization\n",
    "video_features = pd.DataFrame(sk.preprocessing.normalize(video_features, norm='l2',axis=1))"
   ]
  },
  {
   "cell_type": "code",
   "execution_count": 4,
   "metadata": {},
   "outputs": [],
   "source": [
    "# Splitting and converting train and test data\n",
    "X_train, X_test, y_train, y_test = train_test_split(video_features, labels['gold_gt_min_aro'], train_size=660,test_size=300,shuffle=False)\n",
    "\n",
    "\n",
    "X_train = X_train.to_numpy()\n",
    "X_test = X_test.to_numpy()\n",
    "y_train = y_train.to_numpy()\n",
    "y_test = y_test.to_numpy()"
   ]
  },
  {
   "cell_type": "code",
   "execution_count": 7,
   "metadata": {},
   "outputs": [
    {
     "data": {
      "text/plain": "0.4307714430385943"
     },
     "execution_count": 7,
     "metadata": {},
     "output_type": "execute_result"
    }
   ],
   "source": [
    "# Single ELM\n",
    "import kernel_elm as elm\n",
    "from sklearn.metrics import classification_report, confusion_matrix,recall_score\n",
    "\n",
    "\n",
    "elmk = elm.Extreme_Learning_Machine()\n",
    "beta = elmk.train(X_train,y_train,weighted=True)\n",
    "y_predict = elmk.test(X_test)\n",
    "recall_score(y_test, y_predict,average='macro')"
   ]
  },
  {
   "cell_type": "code",
   "execution_count": 9,
   "metadata": {},
   "outputs": [],
   "source": [
    "# Multiple ELM\n",
    "import kernel_elm as elm\n",
    "from sklearn.metrics import classification_report, confusion_matrix,recall_score\n",
    "\n",
    "\n",
    "variables = [labels['gold_gt_min_aro'],labels['gold_gt_min_like'],labels['gold_gt_min_val'],data_all_thomas['arousal'],data_all_thomas['likeability'],data_all_thomas['valence']]\n",
    "hyperparams_c = [100000,10000,1000,100,10,1,0.1,0.01,0.001,0.0001,0.00001]\n",
    "gammas = [100000,10000,1000,100,10,1,0.1,0.01,0.001,0.0001,0.00001]\n",
    "report_kelms = pd.DataFrame(columns=['variable_name'] + hyperparams_c)\n",
    "\n",
    "for variable in variables:\n",
    "    row = [variable.name]\n",
    "    for param_c in hyperparams_c:\n",
    "        X_train, X_test, y_train, y_test = train_test_split(video_features, variable, train_size=660,test_size=300,shuffle=False)\n",
    "        X_train = X_train.to_numpy()\n",
    "        X_test = X_test.to_numpy()\n",
    "        y_train = y_train.to_numpy()\n",
    "        y_test = y_test.to_numpy()\n",
    "        kelm = elm.Extreme_Learning_Machine(C=param_c, kernel='linear')\n",
    "        kelm.train(X_train,y_train, weighted=True)\n",
    "        y_pred_single = kelm.test(X_test)\n",
    "        row = row + [recall_score(y_test, y_pred_single,average='macro')]\n",
    "    report_kelms = report_kelms.append(pd.Series(row,index=report_kelms.columns),ignore_index=True)\n",
    "\n",
    "\n",
    "report_kelms.to_csv('report_kelm_c_linear_weighted.csv')"
   ]
  },
  {
   "cell_type": "code",
   "execution_count": 7,
   "metadata": {},
   "outputs": [],
   "source": [
    "report_kelms.to_csv('report_kelm_c_linear.csv')"
   ]
  },
  {
   "cell_type": "code",
   "execution_count": 20,
   "metadata": {},
   "outputs": [],
   "source": [
    "number_training_rows = X_train.shape[0]\n",
    "\n",
    "W = np.identity(number_training_rows)\n",
    "ClassHistogram = np.histogram(y_train,bins=[1,2,3,4])[0]\n",
    "ClassHistogram = np.divide(1,ClassHistogram)\n",
    "for i in range(0,number_training_rows):\n",
    "    W[i,i]=ClassHistogram[y_train[i]-1]"
   ]
  },
  {
   "cell_type": "code",
   "execution_count": 12,
   "metadata": {},
   "outputs": [
    {
     "data": {
      "text/plain": "array([2, 2, 2, 2, 3, 2, 2, 2, 3, 2, 2, 2, 3, 3, 1, 2, 2, 2, 2, 2, 1, 3,\n       3, 2, 2, 2, 1, 2, 2, 2, 3, 3, 2, 2, 2, 2, 2, 2, 2, 3, 1, 3, 1, 2,\n       2, 1, 2, 2, 2, 2, 3, 2, 2, 2, 3, 2, 2, 2, 2, 2, 2, 2, 2, 2, 2, 2,\n       2, 2, 2, 3, 2, 3, 2, 2, 2, 2, 2, 3, 3, 3, 3, 2, 2, 1, 2, 1, 2, 2,\n       3, 1, 3, 3, 3, 2, 3, 3, 2, 2, 2, 3, 3, 2, 2, 2, 2, 2, 2, 3, 1, 1,\n       2, 2, 1, 2, 3, 2, 2, 2, 2, 2, 2, 3, 1, 2, 2, 2, 3, 1, 3, 2, 2, 3,\n       2, 2, 2, 2, 3, 3, 2, 2, 1, 3, 3, 2, 2, 2, 1, 1, 3, 3, 2, 2, 2, 3,\n       2, 2, 2, 3, 1, 2, 2, 2, 2, 2, 3, 3, 2, 3, 2, 2, 2, 2, 3, 2, 2, 2,\n       3, 2, 2, 1, 2, 3, 2, 2, 2, 2, 2, 2, 2, 3, 2, 2, 2, 2, 2, 3, 2, 2,\n       1, 3, 2, 3, 1, 2, 2, 3, 3, 2, 2, 1, 1, 2, 3, 3, 3, 2, 2, 2, 2, 1,\n       2, 3, 3, 3, 2, 2, 3, 2, 2, 3, 3, 2, 3, 2, 2, 2, 2, 1, 2, 2, 2, 3,\n       1, 3, 2, 2, 2, 3, 3, 2, 3, 3, 2, 2, 2, 2, 2, 3, 3, 3, 2, 2, 2, 1,\n       1, 1, 3, 2, 3, 2, 2, 2, 3, 3, 3, 2, 2, 3, 2, 2, 2, 1, 2, 1, 2, 2,\n       2, 2, 2, 2, 2, 2, 2, 1, 3, 2, 2, 2, 2, 2, 2, 2, 3, 3, 3, 3, 3, 2,\n       2, 3, 3, 2, 3, 1, 3, 2, 2, 2, 3, 1, 2, 3, 2, 2, 1, 2, 2, 3, 1, 3,\n       3, 2, 2, 1, 2, 2, 2, 2, 3, 3, 2, 3, 2, 2, 2, 2, 3, 2, 2, 1, 2, 2,\n       2, 3, 2, 3, 2, 2, 2, 3, 2, 2, 3, 3, 2, 2, 2, 1, 3, 2, 2, 2, 3, 2,\n       3, 3, 2, 2, 2, 2, 2, 2, 2, 2, 2, 2, 3, 3, 3, 1, 2, 2, 2, 2, 2, 2,\n       3, 2, 2, 2, 2, 2, 1, 1, 2, 3, 2, 2, 3, 3, 3, 2, 3, 2, 2, 1, 2, 2,\n       1, 2, 3, 2, 3, 3, 2, 3, 3, 3, 3, 3, 2, 3, 3, 2, 2, 2, 2, 2, 2, 2,\n       3, 3, 1, 2, 1, 1, 1, 3, 3, 2, 1, 2, 2, 2, 3, 2, 1, 1, 3, 2, 3, 2,\n       2, 3, 3, 1, 2, 2, 3, 3, 3, 2, 3, 3, 3, 2, 1, 3, 2, 3, 3, 2, 2, 2,\n       2, 2, 2, 2, 1, 3, 3, 3, 1, 2, 1, 2, 2, 3, 2, 2, 3, 2, 2, 3, 2, 2,\n       2, 3, 2, 2, 2, 2, 3, 2, 2, 1, 1, 2, 3, 2, 2, 2, 2, 2, 3, 3, 3, 1,\n       1, 3, 3, 2, 2, 2, 2, 2, 3, 3, 2, 2, 2, 2, 3, 2, 2, 1, 2, 3, 3, 2,\n       3, 2, 2, 1, 2, 3, 2, 3, 2, 2, 2, 2, 2, 2, 1, 2, 3, 2, 2, 1, 1, 3,\n       2, 3, 2, 2, 3, 2, 2, 2, 3, 2, 2, 3, 2, 3, 3, 2, 2, 1, 2, 3, 2, 2,\n       2, 3, 3, 1, 3, 2, 2, 2, 2, 2, 2, 1, 2, 3, 3, 1, 1, 2, 2, 2, 2, 2,\n       2, 3, 2, 1, 2, 2, 2, 3, 3, 3, 1, 1, 2, 3, 3, 3, 2, 1, 2, 3, 1, 2,\n       2, 2, 2, 2, 2, 3, 2, 2, 2, 2, 3, 2, 2, 2, 1, 1, 2, 2, 2, 2, 2, 2],\n      dtype=int64)"
     },
     "execution_count": 12,
     "metadata": {},
     "output_type": "execute_result"
    }
   ],
   "source": [
    "y_train"
   ]
  },
  {
   "cell_type": "code",
   "execution_count": null,
   "metadata": {},
   "outputs": [],
   "source": []
  }
 ]
}