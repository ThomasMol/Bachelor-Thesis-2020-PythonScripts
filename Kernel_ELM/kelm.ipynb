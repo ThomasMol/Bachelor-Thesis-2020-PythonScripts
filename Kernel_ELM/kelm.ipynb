{
 "nbformat": 4,
 "nbformat_minor": 2,
 "metadata": {
  "language_info": {
   "name": "python",
   "codemirror_mode": {
    "name": "ipython",
    "version": 3
   },
   "version": "3.8.1-final"
  },
  "orig_nbformat": 2,
  "file_extension": ".py",
  "mimetype": "text/x-python",
  "name": "python",
  "npconvert_exporter": "python",
  "pygments_lexer": "ipython3",
  "version": 3,
  "kernelspec": {
   "name": "python38164bitc1b64a04908d4aa0af06e43278af8af3",
   "display_name": "Python 3.8.1 64-bit"
  }
 },
 "cells": [
  {
   "cell_type": "code",
   "execution_count": 18,
   "metadata": {},
   "outputs": [],
   "source": [
    "import pandas as pd\n",
    "import numpy as np\n",
    "import sklearn as sk\n",
    "import matplotlib\n",
    "import matplotlib.pyplot as plt\n",
    "import scipy\n",
    "from subprocess import call\n",
    "from IPython.display import Image\n",
    "from sklearn.model_selection import train_test_split\n",
    "from scipy import stats\n",
    "\n",
    "%matplotlib inline\n",
    "matplotlib.style.use('bmh')\n",
    "\n",
    "data_all_thomas = pd.read_excel('../annotations/data_all_thomas.xlsx')\n",
    "data_labels_video_features = pd.read_csv('../annotations/combined_labels_video_features.csv')\n",
    "labels = data_labels_video_features[['gold_gt_max_aro','gold_gt_max_like','gold_gt_max_val','gold_gt_min_aro','gold_gt_min_like','gold_gt_min_val']]\n",
    "\n",
    "fold_hard_labels_bottom_300_weighted = pd.read_csv('datasets/fold_cv_hard_labels_bottom_300_weighted.csv')\n",
    "fold_predictions_top_660_weighted = pd.read_csv('datasets/fold_predictions_top_660_weighted.csv')\n",
    "\n",
    "fold_hard_labels_bottom_300_unweighted = pd.read_csv('datasets/fold_cv_hard_labels_bottom_300_unweighted.csv')\n",
    "fold_predictions_top_660_unweighted = pd.read_csv('datasets/fold_predictions_top_660_unweighted.csv')\n",
    "#fusion_labels_weighted = pd.read_csv('fold_cv_hard_labels_weighted_zn_l2.csv')\n",
    "#labels_max = labels[['gold_gt_max_aro','gold_gt_max_like','gold_gt_max_val']]\n",
    "#labels_min = labels[['gold_gt_min_aro','gold_gt_min_like','gold_gt_min_val']]\n"
   ]
  },
  {
   "cell_type": "code",
   "execution_count": 13,
   "metadata": {},
   "outputs": [],
   "source": [
    "# Set video features, No Normalization\n",
    "video_features = data_labels_video_features.drop(['gold_gt_max_aro','gold_gt_max_like','gold_gt_max_val','gold_gt_min_aro','gold_gt_min_like','gold_gt_min_val'],axis=1)"
   ]
  },
  {
   "cell_type": "code",
   "execution_count": 14,
   "metadata": {},
   "outputs": [],
   "source": [
    "# Applying z normalization\n",
    "video_features = video_features.apply(stats.zscore)"
   ]
  },
  {
   "cell_type": "code",
   "execution_count": 15,
   "metadata": {},
   "outputs": [],
   "source": [
    "# Applying L2 normalization\n",
    "video_features = pd.DataFrame(sk.preprocessing.normalize(video_features, norm='l2',axis=1))"
   ]
  },
  {
   "cell_type": "code",
   "execution_count": 19,
   "metadata": {},
   "outputs": [
    {
     "name": "stdout",
     "output_type": "stream",
     "text": "0.6705032618825723,interview_binary\n0.6168174758906735,agreeableness_binary\n0.6822579451700026,openness_binary\n0.6628749860599978,neuroticism_binary\n0.7007429765498027,extraversion_binary\n0.6535845588235294,conscientiousness_binary\n0.4138275166583723,arousal\n0.5274086323404135,valence\n0.431599710982659,likeability\n"
    }
   ],
   "source": [
    "# Compute UAR\n",
    "from sklearn.metrics import recall_score\n",
    "\n",
    "\n",
    "for dimension in fold_predictions_top_660_unweighted:\n",
    "    score = recall_score(data_all_thomas[dimension][:660],fold_predictions_top_660_unweighted[dimension],average=\"macro\")\n",
    "    print(str(score) + \",\" + dimension)"
   ]
  },
  {
   "cell_type": "code",
   "execution_count": 22,
   "metadata": {},
   "outputs": [
    {
     "data": {
      "text/plain": "0.6123565279770444"
     },
     "execution_count": 22,
     "metadata": {},
     "output_type": "execute_result"
    }
   ],
   "source": [
    "# Decision Tree\n",
    "from sklearn.tree import DecisionTreeClassifier\n",
    "from sklearn import tree\n",
    "from sklearn.metrics import classification_report, confusion_matrix,recall_score\n",
    "\n",
    "\n",
    "X_train, y_train = fold_predictions_top_660_unweighted.drop(['interview_binary'], axis=1) , data_all_thomas.interview_binary[:660]\n",
    "X_test, y_test = fold_hard_labels_bottom_300_unweighted.drop(['interview_binary'], axis=1), data_all_thomas.interview_binary[660:]\n",
    "\n",
    "clf = DecisionTreeClassifier(random_state=None, max_depth=4, min_samples_leaf=20)\n",
    "clf.fit(X_train, y_train)\n",
    "y_predict = clf.predict(X_test)\n",
    "recall_score(y_test, y_predict, average=\"macro\")"
   ]
  },
  {
   "cell_type": "code",
   "execution_count": 7,
   "metadata": {},
   "outputs": [
    {
     "data": {
      "image/svg+xml": "<?xml version=\"1.0\" encoding=\"UTF-8\" standalone=\"no\"?>\r\n<!DOCTYPE svg PUBLIC \"-//W3C//DTD SVG 1.1//EN\"\r\n \"http://www.w3.org/Graphics/SVG/1.1/DTD/svg11.dtd\">\r\n<!-- Generated by graphviz version 2.38.0 (20140413.2041)\r\n -->\r\n<!-- Title: Tree Pages: 1 -->\r\n<svg width=\"1878pt\" height=\"552pt\"\r\n viewBox=\"0.00 0.00 1877.50 552.00\" xmlns=\"http://www.w3.org/2000/svg\" xmlns:xlink=\"http://www.w3.org/1999/xlink\">\r\n<g id=\"graph0\" class=\"graph\" transform=\"scale(1 1) rotate(0) translate(4 548)\">\r\n<title>Tree</title>\r\n<polygon fill=\"white\" stroke=\"none\" points=\"-4,4 -4,-548 1873.5,-548 1873.5,4 -4,4\"/>\r\n<!-- 0 -->\r\n<g id=\"node1\" class=\"node\"><title>0</title>\r\n<path fill=\"#d4eaf9\" stroke=\"black\" d=\"M1102,-544C1102,-544 965,-544 965,-544 959,-544 953,-538 953,-532 953,-532 953,-473 953,-473 953,-467 959,-461 965,-461 965,-461 1102,-461 1102,-461 1108,-461 1114,-467 1114,-473 1114,-473 1114,-532 1114,-532 1114,-538 1108,-544 1102,-544\"/>\r\n<text text-anchor=\"start\" x=\"961\" y=\"-528.8\" font-family=\"Helvetica,sans-Serif\" font-size=\"14.00\">openness_binary ≤ 1.5</text>\r\n<text text-anchor=\"start\" x=\"996\" y=\"-513.8\" font-family=\"Helvetica,sans-Serif\" font-size=\"14.00\">gini = 0.493</text>\r\n<text text-anchor=\"start\" x=\"986\" y=\"-498.8\" font-family=\"Helvetica,sans-Serif\" font-size=\"14.00\">samples = 660</text>\r\n<text text-anchor=\"start\" x=\"976.5\" y=\"-483.8\" font-family=\"Helvetica,sans-Serif\" font-size=\"14.00\">value = [290, 370]</text>\r\n<text text-anchor=\"start\" x=\"988.5\" y=\"-468.8\" font-family=\"Helvetica,sans-Serif\" font-size=\"14.00\">class = invited</text>\r\n</g>\r\n<!-- 1 -->\r\n<g id=\"node2\" class=\"node\"><title>1</title>\r\n<path fill=\"#f7d9c4\" stroke=\"black\" d=\"M907,-425C907,-425 716,-425 716,-425 710,-425 704,-419 704,-413 704,-413 704,-354 704,-354 704,-348 710,-342 716,-342 716,-342 907,-342 907,-342 913,-342 919,-348 919,-354 919,-354 919,-413 919,-413 919,-419 913,-425 907,-425\"/>\r\n<text text-anchor=\"start\" x=\"712\" y=\"-409.8\" font-family=\"Helvetica,sans-Serif\" font-size=\"14.00\">conscientiousness_binary ≤ 1.5</text>\r\n<text text-anchor=\"start\" x=\"774\" y=\"-394.8\" font-family=\"Helvetica,sans-Serif\" font-size=\"14.00\">gini = 0.485</text>\r\n<text text-anchor=\"start\" x=\"764\" y=\"-379.8\" font-family=\"Helvetica,sans-Serif\" font-size=\"14.00\">samples = 337</text>\r\n<text text-anchor=\"start\" x=\"754.5\" y=\"-364.8\" font-family=\"Helvetica,sans-Serif\" font-size=\"14.00\">value = [198, 139]</text>\r\n<text text-anchor=\"start\" x=\"755\" y=\"-349.8\" font-family=\"Helvetica,sans-Serif\" font-size=\"14.00\">class = not invited</text>\r\n</g>\r\n<!-- 0&#45;&gt;1 -->\r\n<g id=\"edge1\" class=\"edge\"><title>0&#45;&gt;1</title>\r\n<path fill=\"none\" stroke=\"black\" d=\"M956.478,-460.907C937.365,-450.834 916.764,-439.977 897.26,-429.698\"/>\r\n<polygon fill=\"black\" stroke=\"black\" points=\"898.864,-426.587 888.386,-425.021 895.6,-432.78 898.864,-426.587\"/>\r\n<text text-anchor=\"middle\" x=\"895.782\" y=\"-445.202\" font-family=\"Helvetica,sans-Serif\" font-size=\"14.00\">True</text>\r\n</g>\r\n<!-- 16 -->\r\n<g id=\"node17\" class=\"node\"><title>16</title>\r\n<path fill=\"#88c4ef\" stroke=\"black\" d=\"M1334.5,-425C1334.5,-425 1166.5,-425 1166.5,-425 1160.5,-425 1154.5,-419 1154.5,-413 1154.5,-413 1154.5,-354 1154.5,-354 1154.5,-348 1160.5,-342 1166.5,-342 1166.5,-342 1334.5,-342 1334.5,-342 1340.5,-342 1346.5,-348 1346.5,-354 1346.5,-354 1346.5,-413 1346.5,-413 1346.5,-419 1340.5,-425 1334.5,-425\"/>\r\n<text text-anchor=\"start\" x=\"1162.5\" y=\"-409.8\" font-family=\"Helvetica,sans-Serif\" font-size=\"14.00\">agreeableness_binary ≤ 1.5</text>\r\n<text text-anchor=\"start\" x=\"1213\" y=\"-394.8\" font-family=\"Helvetica,sans-Serif\" font-size=\"14.00\">gini = 0.407</text>\r\n<text text-anchor=\"start\" x=\"1203\" y=\"-379.8\" font-family=\"Helvetica,sans-Serif\" font-size=\"14.00\">samples = 323</text>\r\n<text text-anchor=\"start\" x=\"1197.5\" y=\"-364.8\" font-family=\"Helvetica,sans-Serif\" font-size=\"14.00\">value = [92, 231]</text>\r\n<text text-anchor=\"start\" x=\"1205.5\" y=\"-349.8\" font-family=\"Helvetica,sans-Serif\" font-size=\"14.00\">class = invited</text>\r\n</g>\r\n<!-- 0&#45;&gt;16 -->\r\n<g id=\"edge16\" class=\"edge\"><title>0&#45;&gt;16</title>\r\n<path fill=\"none\" stroke=\"black\" d=\"M1108.79,-460.907C1127.39,-450.879 1147.43,-440.075 1166.41,-429.837\"/>\r\n<polygon fill=\"black\" stroke=\"black\" points=\"1168.2,-432.847 1175.35,-425.021 1164.88,-426.686 1168.2,-432.847\"/>\r\n<text text-anchor=\"middle\" x=\"1168.18\" y=\"-445.27\" font-family=\"Helvetica,sans-Serif\" font-size=\"14.00\">False</text>\r\n</g>\r\n<!-- 2 -->\r\n<g id=\"node3\" class=\"node\"><title>2</title>\r\n<path fill=\"#f2bf9a\" stroke=\"black\" d=\"M501.5,-306C501.5,-306 355.5,-306 355.5,-306 349.5,-306 343.5,-300 343.5,-294 343.5,-294 343.5,-235 343.5,-235 343.5,-229 349.5,-223 355.5,-223 355.5,-223 501.5,-223 501.5,-223 507.5,-223 513.5,-229 513.5,-235 513.5,-235 513.5,-294 513.5,-294 513.5,-300 507.5,-306 501.5,-306\"/>\r\n<text text-anchor=\"start\" x=\"351.5\" y=\"-290.8\" font-family=\"Helvetica,sans-Serif\" font-size=\"14.00\">neuroticism_binary ≤ 1.5</text>\r\n<text text-anchor=\"start\" x=\"391\" y=\"-275.8\" font-family=\"Helvetica,sans-Serif\" font-size=\"14.00\">gini = 0.441</text>\r\n<text text-anchor=\"start\" x=\"381\" y=\"-260.8\" font-family=\"Helvetica,sans-Serif\" font-size=\"14.00\">samples = 210</text>\r\n<text text-anchor=\"start\" x=\"375.5\" y=\"-245.8\" font-family=\"Helvetica,sans-Serif\" font-size=\"14.00\">value = [141, 69]</text>\r\n<text text-anchor=\"start\" x=\"372\" y=\"-230.8\" font-family=\"Helvetica,sans-Serif\" font-size=\"14.00\">class = not invited</text>\r\n</g>\r\n<!-- 1&#45;&gt;2 -->\r\n<g id=\"edge2\" class=\"edge\"><title>1&#45;&gt;2</title>\r\n<path fill=\"none\" stroke=\"black\" d=\"M703.794,-349.598C647.022,-332.255 578.01,-311.173 523.286,-294.456\"/>\r\n<polygon fill=\"black\" stroke=\"black\" points=\"524.176,-291.068 513.589,-291.493 522.13,-297.762 524.176,-291.068\"/>\r\n</g>\r\n<!-- 9 -->\r\n<g id=\"node10\" class=\"node\"><title>9</title>\r\n<path fill=\"#daedfa\" stroke=\"black\" d=\"M884.5,-306C884.5,-306 738.5,-306 738.5,-306 732.5,-306 726.5,-300 726.5,-294 726.5,-294 726.5,-235 726.5,-235 726.5,-229 732.5,-223 738.5,-223 738.5,-223 884.5,-223 884.5,-223 890.5,-223 896.5,-229 896.5,-235 896.5,-235 896.5,-294 896.5,-294 896.5,-300 890.5,-306 884.5,-306\"/>\r\n<text text-anchor=\"start\" x=\"734.5\" y=\"-290.8\" font-family=\"Helvetica,sans-Serif\" font-size=\"14.00\">neuroticism_binary ≤ 1.5</text>\r\n<text text-anchor=\"start\" x=\"774\" y=\"-275.8\" font-family=\"Helvetica,sans-Serif\" font-size=\"14.00\">gini = 0.495</text>\r\n<text text-anchor=\"start\" x=\"764\" y=\"-260.8\" font-family=\"Helvetica,sans-Serif\" font-size=\"14.00\">samples = 127</text>\r\n<text text-anchor=\"start\" x=\"763\" y=\"-245.8\" font-family=\"Helvetica,sans-Serif\" font-size=\"14.00\">value = [57, 70]</text>\r\n<text text-anchor=\"start\" x=\"766.5\" y=\"-230.8\" font-family=\"Helvetica,sans-Serif\" font-size=\"14.00\">class = invited</text>\r\n</g>\r\n<!-- 1&#45;&gt;9 -->\r\n<g id=\"edge9\" class=\"edge\"><title>1&#45;&gt;9</title>\r\n<path fill=\"none\" stroke=\"black\" d=\"M811.5,-341.907C811.5,-333.649 811.5,-324.864 811.5,-316.302\"/>\r\n<polygon fill=\"black\" stroke=\"black\" points=\"815,-316.021 811.5,-306.021 808,-316.021 815,-316.021\"/>\r\n</g>\r\n<!-- 3 -->\r\n<g id=\"node4\" class=\"node\"><title>3</title>\r\n<path fill=\"#efb388\" stroke=\"black\" d=\"M264,-187C264,-187 159,-187 159,-187 153,-187 147,-181 147,-175 147,-175 147,-116 147,-116 147,-110 153,-104 159,-104 159,-104 264,-104 264,-104 270,-104 276,-110 276,-116 276,-116 276,-175 276,-175 276,-181 270,-187 264,-187\"/>\r\n<text text-anchor=\"start\" x=\"169\" y=\"-171.8\" font-family=\"Helvetica,sans-Serif\" font-size=\"14.00\">valence ≤ 2.5</text>\r\n<text text-anchor=\"start\" x=\"174\" y=\"-156.8\" font-family=\"Helvetica,sans-Serif\" font-size=\"14.00\">gini = 0.407</text>\r\n<text text-anchor=\"start\" x=\"164\" y=\"-141.8\" font-family=\"Helvetica,sans-Serif\" font-size=\"14.00\">samples = 158</text>\r\n<text text-anchor=\"start\" x=\"158.5\" y=\"-126.8\" font-family=\"Helvetica,sans-Serif\" font-size=\"14.00\">value = [113, 45]</text>\r\n<text text-anchor=\"start\" x=\"155\" y=\"-111.8\" font-family=\"Helvetica,sans-Serif\" font-size=\"14.00\">class = not invited</text>\r\n</g>\r\n<!-- 2&#45;&gt;3 -->\r\n<g id=\"edge3\" class=\"edge\"><title>2&#45;&gt;3</title>\r\n<path fill=\"none\" stroke=\"black\" d=\"M353.213,-222.907C331.157,-211.016 307.075,-198.031 285.124,-186.196\"/>\r\n<polygon fill=\"black\" stroke=\"black\" points=\"286.647,-183.041 276.184,-181.375 283.325,-189.202 286.647,-183.041\"/>\r\n</g>\r\n<!-- 6 -->\r\n<g id=\"node7\" class=\"node\"><title>6</title>\r\n<path fill=\"#fbede3\" stroke=\"black\" d=\"M481,-187C481,-187 376,-187 376,-187 370,-187 364,-181 364,-175 364,-175 364,-116 364,-116 364,-110 370,-104 376,-104 376,-104 481,-104 481,-104 487,-104 493,-110 493,-116 493,-116 493,-175 493,-175 493,-181 487,-187 481,-187\"/>\r\n<text text-anchor=\"start\" x=\"386\" y=\"-171.8\" font-family=\"Helvetica,sans-Serif\" font-size=\"14.00\">valence ≤ 1.5</text>\r\n<text text-anchor=\"start\" x=\"391\" y=\"-156.8\" font-family=\"Helvetica,sans-Serif\" font-size=\"14.00\">gini = 0.497</text>\r\n<text text-anchor=\"start\" x=\"385\" y=\"-141.8\" font-family=\"Helvetica,sans-Serif\" font-size=\"14.00\">samples = 52</text>\r\n<text text-anchor=\"start\" x=\"380\" y=\"-126.8\" font-family=\"Helvetica,sans-Serif\" font-size=\"14.00\">value = [28, 24]</text>\r\n<text text-anchor=\"start\" x=\"372\" y=\"-111.8\" font-family=\"Helvetica,sans-Serif\" font-size=\"14.00\">class = not invited</text>\r\n</g>\r\n<!-- 2&#45;&gt;6 -->\r\n<g id=\"edge6\" class=\"edge\"><title>2&#45;&gt;6</title>\r\n<path fill=\"none\" stroke=\"black\" d=\"M428.5,-222.907C428.5,-214.649 428.5,-205.864 428.5,-197.302\"/>\r\n<polygon fill=\"black\" stroke=\"black\" points=\"432,-197.021 428.5,-187.021 425,-197.021 432,-197.021\"/>\r\n</g>\r\n<!-- 4 -->\r\n<g id=\"node5\" class=\"node\"><title>4</title>\r\n<path fill=\"#eead7e\" stroke=\"black\" d=\"M117,-68C117,-68 12,-68 12,-68 6,-68 0,-62 0,-56 0,-56 0,-12 0,-12 0,-6 6,-0 12,-0 12,-0 117,-0 117,-0 123,-0 129,-6 129,-12 129,-12 129,-56 129,-56 129,-62 123,-68 117,-68\"/>\r\n<text text-anchor=\"start\" x=\"27\" y=\"-52.8\" font-family=\"Helvetica,sans-Serif\" font-size=\"14.00\">gini = 0.383</text>\r\n<text text-anchor=\"start\" x=\"17\" y=\"-37.8\" font-family=\"Helvetica,sans-Serif\" font-size=\"14.00\">samples = 128</text>\r\n<text text-anchor=\"start\" x=\"16\" y=\"-22.8\" font-family=\"Helvetica,sans-Serif\" font-size=\"14.00\">value = [95, 33]</text>\r\n<text text-anchor=\"start\" x=\"8\" y=\"-7.8\" font-family=\"Helvetica,sans-Serif\" font-size=\"14.00\">class = not invited</text>\r\n</g>\r\n<!-- 3&#45;&gt;4 -->\r\n<g id=\"edge4\" class=\"edge\"><title>3&#45;&gt;4</title>\r\n<path fill=\"none\" stroke=\"black\" d=\"M156.763,-103.726C143.906,-94.1494 130.229,-83.9611 117.452,-74.4438\"/>\r\n<polygon fill=\"black\" stroke=\"black\" points=\"119.314,-71.4666 109.204,-68.2996 115.132,-77.0803 119.314,-71.4666\"/>\r\n</g>\r\n<!-- 5 -->\r\n<g id=\"node6\" class=\"node\"><title>5</title>\r\n<path fill=\"#f6d5bd\" stroke=\"black\" d=\"M264,-68C264,-68 159,-68 159,-68 153,-68 147,-62 147,-56 147,-56 147,-12 147,-12 147,-6 153,-0 159,-0 159,-0 264,-0 264,-0 270,-0 276,-6 276,-12 276,-12 276,-56 276,-56 276,-62 270,-68 264,-68\"/>\r\n<text text-anchor=\"start\" x=\"178\" y=\"-52.8\" font-family=\"Helvetica,sans-Serif\" font-size=\"14.00\">gini = 0.48</text>\r\n<text text-anchor=\"start\" x=\"168\" y=\"-37.8\" font-family=\"Helvetica,sans-Serif\" font-size=\"14.00\">samples = 30</text>\r\n<text text-anchor=\"start\" x=\"163\" y=\"-22.8\" font-family=\"Helvetica,sans-Serif\" font-size=\"14.00\">value = [18, 12]</text>\r\n<text text-anchor=\"start\" x=\"155\" y=\"-7.8\" font-family=\"Helvetica,sans-Serif\" font-size=\"14.00\">class = not invited</text>\r\n</g>\r\n<!-- 3&#45;&gt;5 -->\r\n<g id=\"edge5\" class=\"edge\"><title>3&#45;&gt;5</title>\r\n<path fill=\"none\" stroke=\"black\" d=\"M211.5,-103.726C211.5,-95.5175 211.5,-86.8595 211.5,-78.56\"/>\r\n<polygon fill=\"black\" stroke=\"black\" points=\"215,-78.2996 211.5,-68.2996 208,-78.2996 215,-78.2996\"/>\r\n</g>\r\n<!-- 7 -->\r\n<g id=\"node8\" class=\"node\"><title>7</title>\r\n<path fill=\"#f4c8a8\" stroke=\"black\" d=\"M411,-68C411,-68 306,-68 306,-68 300,-68 294,-62 294,-56 294,-56 294,-12 294,-12 294,-6 300,-0 306,-0 306,-0 411,-0 411,-0 417,-0 423,-6 423,-12 423,-12 423,-56 423,-56 423,-62 417,-68 411,-68\"/>\r\n<text text-anchor=\"start\" x=\"321\" y=\"-52.8\" font-family=\"Helvetica,sans-Serif\" font-size=\"14.00\">gini = 0.461</text>\r\n<text text-anchor=\"start\" x=\"315\" y=\"-37.8\" font-family=\"Helvetica,sans-Serif\" font-size=\"14.00\">samples = 25</text>\r\n<text text-anchor=\"start\" x=\"314\" y=\"-22.8\" font-family=\"Helvetica,sans-Serif\" font-size=\"14.00\">value = [16, 9]</text>\r\n<text text-anchor=\"start\" x=\"302\" y=\"-7.8\" font-family=\"Helvetica,sans-Serif\" font-size=\"14.00\">class = not invited</text>\r\n</g>\r\n<!-- 6&#45;&gt;7 -->\r\n<g id=\"edge7\" class=\"edge\"><title>6&#45;&gt;7</title>\r\n<path fill=\"none\" stroke=\"black\" d=\"M402.435,-103.726C396.837,-94.9703 390.913,-85.7032 385.289,-76.9051\"/>\r\n<polygon fill=\"black\" stroke=\"black\" points=\"388.123,-74.8399 379.787,-68.2996 382.225,-78.6103 388.123,-74.8399\"/>\r\n</g>\r\n<!-- 8 -->\r\n<g id=\"node9\" class=\"node\"><title>8</title>\r\n<path fill=\"#d7ebfa\" stroke=\"black\" d=\"M542,-68C542,-68 453,-68 453,-68 447,-68 441,-62 441,-56 441,-56 441,-12 441,-12 441,-6 447,-0 453,-0 453,-0 542,-0 542,-0 548,-0 554,-6 554,-12 554,-12 554,-56 554,-56 554,-62 548,-68 542,-68\"/>\r\n<text text-anchor=\"start\" x=\"460\" y=\"-52.8\" font-family=\"Helvetica,sans-Serif\" font-size=\"14.00\">gini = 0.494</text>\r\n<text text-anchor=\"start\" x=\"454\" y=\"-37.8\" font-family=\"Helvetica,sans-Serif\" font-size=\"14.00\">samples = 27</text>\r\n<text text-anchor=\"start\" x=\"449\" y=\"-22.8\" font-family=\"Helvetica,sans-Serif\" font-size=\"14.00\">value = [12, 15]</text>\r\n<text text-anchor=\"start\" x=\"452.5\" y=\"-7.8\" font-family=\"Helvetica,sans-Serif\" font-size=\"14.00\">class = invited</text>\r\n</g>\r\n<!-- 6&#45;&gt;8 -->\r\n<g id=\"edge8\" class=\"edge\"><title>6&#45;&gt;8</title>\r\n<path fill=\"none\" stroke=\"black\" d=\"M454.193,-103.726C459.711,-94.9703 465.55,-85.7032 471.094,-76.9051\"/>\r\n<polygon fill=\"black\" stroke=\"black\" points=\"474.147,-78.6259 476.517,-68.2996 468.224,-74.8941 474.147,-78.6259\"/>\r\n</g>\r\n<!-- 10 -->\r\n<g id=\"node11\" class=\"node\"><title>10</title>\r\n<path fill=\"#fbede3\" stroke=\"black\" d=\"M790.5,-187C790.5,-187 622.5,-187 622.5,-187 616.5,-187 610.5,-181 610.5,-175 610.5,-175 610.5,-116 610.5,-116 610.5,-110 616.5,-104 622.5,-104 622.5,-104 790.5,-104 790.5,-104 796.5,-104 802.5,-110 802.5,-116 802.5,-116 802.5,-175 802.5,-175 802.5,-181 796.5,-187 790.5,-187\"/>\r\n<text text-anchor=\"start\" x=\"618.5\" y=\"-171.8\" font-family=\"Helvetica,sans-Serif\" font-size=\"14.00\">agreeableness_binary ≤ 1.5</text>\r\n<text text-anchor=\"start\" x=\"669\" y=\"-156.8\" font-family=\"Helvetica,sans-Serif\" font-size=\"14.00\">gini = 0.497</text>\r\n<text text-anchor=\"start\" x=\"663\" y=\"-141.8\" font-family=\"Helvetica,sans-Serif\" font-size=\"14.00\">samples = 78</text>\r\n<text text-anchor=\"start\" x=\"658\" y=\"-126.8\" font-family=\"Helvetica,sans-Serif\" font-size=\"14.00\">value = [42, 36]</text>\r\n<text text-anchor=\"start\" x=\"650\" y=\"-111.8\" font-family=\"Helvetica,sans-Serif\" font-size=\"14.00\">class = not invited</text>\r\n</g>\r\n<!-- 9&#45;&gt;10 -->\r\n<g id=\"edge10\" class=\"edge\"><title>9&#45;&gt;10</title>\r\n<path fill=\"none\" stroke=\"black\" d=\"M775.071,-222.907C766.845,-213.742 758.037,-203.927 749.567,-194.489\"/>\r\n<polygon fill=\"black\" stroke=\"black\" points=\"752.149,-192.126 742.865,-187.021 746.939,-196.801 752.149,-192.126\"/>\r\n</g>\r\n<!-- 13 -->\r\n<g id=\"node14\" class=\"node\"><title>13</title>\r\n<path fill=\"#90c8f0\" stroke=\"black\" d=\"M1000.5,-187C1000.5,-187 832.5,-187 832.5,-187 826.5,-187 820.5,-181 820.5,-175 820.5,-175 820.5,-116 820.5,-116 820.5,-110 826.5,-104 832.5,-104 832.5,-104 1000.5,-104 1000.5,-104 1006.5,-104 1012.5,-110 1012.5,-116 1012.5,-116 1012.5,-175 1012.5,-175 1012.5,-181 1006.5,-187 1000.5,-187\"/>\r\n<text text-anchor=\"start\" x=\"828.5\" y=\"-171.8\" font-family=\"Helvetica,sans-Serif\" font-size=\"14.00\">agreeableness_binary ≤ 1.5</text>\r\n<text text-anchor=\"start\" x=\"879\" y=\"-156.8\" font-family=\"Helvetica,sans-Serif\" font-size=\"14.00\">gini = 0.425</text>\r\n<text text-anchor=\"start\" x=\"873\" y=\"-141.8\" font-family=\"Helvetica,sans-Serif\" font-size=\"14.00\">samples = 49</text>\r\n<text text-anchor=\"start\" x=\"868\" y=\"-126.8\" font-family=\"Helvetica,sans-Serif\" font-size=\"14.00\">value = [15, 34]</text>\r\n<text text-anchor=\"start\" x=\"871.5\" y=\"-111.8\" font-family=\"Helvetica,sans-Serif\" font-size=\"14.00\">class = invited</text>\r\n</g>\r\n<!-- 9&#45;&gt;13 -->\r\n<g id=\"edge13\" class=\"edge\"><title>9&#45;&gt;13</title>\r\n<path fill=\"none\" stroke=\"black\" d=\"M847.929,-222.907C856.155,-213.742 864.963,-203.927 873.433,-194.489\"/>\r\n<polygon fill=\"black\" stroke=\"black\" points=\"876.061,-196.801 880.135,-187.021 870.851,-192.126 876.061,-196.801\"/>\r\n</g>\r\n<!-- 11 -->\r\n<g id=\"node12\" class=\"node\"><title>11</title>\r\n<path fill=\"#f8dbc6\" stroke=\"black\" d=\"M689,-68C689,-68 584,-68 584,-68 578,-68 572,-62 572,-56 572,-56 572,-12 572,-12 572,-6 578,-0 584,-0 584,-0 689,-0 689,-0 695,-0 701,-6 701,-12 701,-12 701,-56 701,-56 701,-62 695,-68 689,-68\"/>\r\n<text text-anchor=\"start\" x=\"599\" y=\"-52.8\" font-family=\"Helvetica,sans-Serif\" font-size=\"14.00\">gini = 0.486</text>\r\n<text text-anchor=\"start\" x=\"593\" y=\"-37.8\" font-family=\"Helvetica,sans-Serif\" font-size=\"14.00\">samples = 48</text>\r\n<text text-anchor=\"start\" x=\"588\" y=\"-22.8\" font-family=\"Helvetica,sans-Serif\" font-size=\"14.00\">value = [28, 20]</text>\r\n<text text-anchor=\"start\" x=\"580\" y=\"-7.8\" font-family=\"Helvetica,sans-Serif\" font-size=\"14.00\">class = not invited</text>\r\n</g>\r\n<!-- 10&#45;&gt;11 -->\r\n<g id=\"edge11\" class=\"edge\"><title>10&#45;&gt;11</title>\r\n<path fill=\"none\" stroke=\"black\" d=\"M680.435,-103.726C674.837,-94.9703 668.913,-85.7032 663.289,-76.9051\"/>\r\n<polygon fill=\"black\" stroke=\"black\" points=\"666.123,-74.8399 657.787,-68.2996 660.225,-78.6103 666.123,-74.8399\"/>\r\n</g>\r\n<!-- 12 -->\r\n<g id=\"node13\" class=\"node\"><title>12</title>\r\n<path fill=\"#e6f3fc\" stroke=\"black\" d=\"M820,-68C820,-68 731,-68 731,-68 725,-68 719,-62 719,-56 719,-56 719,-12 719,-12 719,-6 725,-0 731,-0 731,-0 820,-0 820,-0 826,-0 832,-6 832,-12 832,-12 832,-56 832,-56 832,-62 826,-68 820,-68\"/>\r\n<text text-anchor=\"start\" x=\"738\" y=\"-52.8\" font-family=\"Helvetica,sans-Serif\" font-size=\"14.00\">gini = 0.498</text>\r\n<text text-anchor=\"start\" x=\"732\" y=\"-37.8\" font-family=\"Helvetica,sans-Serif\" font-size=\"14.00\">samples = 30</text>\r\n<text text-anchor=\"start\" x=\"727\" y=\"-22.8\" font-family=\"Helvetica,sans-Serif\" font-size=\"14.00\">value = [14, 16]</text>\r\n<text text-anchor=\"start\" x=\"730.5\" y=\"-7.8\" font-family=\"Helvetica,sans-Serif\" font-size=\"14.00\">class = invited</text>\r\n</g>\r\n<!-- 10&#45;&gt;12 -->\r\n<g id=\"edge12\" class=\"edge\"><title>10&#45;&gt;12</title>\r\n<path fill=\"none\" stroke=\"black\" d=\"M732.193,-103.726C737.711,-94.9703 743.55,-85.7032 749.094,-76.9051\"/>\r\n<polygon fill=\"black\" stroke=\"black\" points=\"752.147,-78.6259 754.517,-68.2996 746.224,-74.8941 752.147,-78.6259\"/>\r\n</g>\r\n<!-- 14 -->\r\n<g id=\"node15\" class=\"node\"><title>14</title>\r\n<path fill=\"#dbedfa\" stroke=\"black\" d=\"M944.5,-68C944.5,-68 862.5,-68 862.5,-68 856.5,-68 850.5,-62 850.5,-56 850.5,-56 850.5,-12 850.5,-12 850.5,-6 856.5,-0 862.5,-0 862.5,-0 944.5,-0 944.5,-0 950.5,-0 956.5,-6 956.5,-12 956.5,-12 956.5,-56 956.5,-56 956.5,-62 950.5,-68 944.5,-68\"/>\r\n<text text-anchor=\"start\" x=\"866\" y=\"-52.8\" font-family=\"Helvetica,sans-Serif\" font-size=\"14.00\">gini = 0.495</text>\r\n<text text-anchor=\"start\" x=\"860\" y=\"-37.8\" font-family=\"Helvetica,sans-Serif\" font-size=\"14.00\">samples = 20</text>\r\n<text text-anchor=\"start\" x=\"859\" y=\"-22.8\" font-family=\"Helvetica,sans-Serif\" font-size=\"14.00\">value = [9, 11]</text>\r\n<text text-anchor=\"start\" x=\"858.5\" y=\"-7.8\" font-family=\"Helvetica,sans-Serif\" font-size=\"14.00\">class = invited</text>\r\n</g>\r\n<!-- 13&#45;&gt;14 -->\r\n<g id=\"edge14\" class=\"edge\"><title>13&#45;&gt;14</title>\r\n<path fill=\"none\" stroke=\"black\" d=\"M911.659,-103.726C910.674,-95.4263 909.634,-86.6671 908.639,-78.2834\"/>\r\n<polygon fill=\"black\" stroke=\"black\" points=\"912.108,-77.8172 907.453,-68.2996 905.157,-78.6425 912.108,-77.8172\"/>\r\n</g>\r\n<!-- 15 -->\r\n<g id=\"node16\" class=\"node\"><title>15</title>\r\n<path fill=\"#6db7ec\" stroke=\"black\" d=\"M1068.5,-68C1068.5,-68 986.5,-68 986.5,-68 980.5,-68 974.5,-62 974.5,-56 974.5,-56 974.5,-12 974.5,-12 974.5,-6 980.5,-0 986.5,-0 986.5,-0 1068.5,-0 1068.5,-0 1074.5,-0 1080.5,-6 1080.5,-12 1080.5,-12 1080.5,-56 1080.5,-56 1080.5,-62 1074.5,-68 1068.5,-68\"/>\r\n<text text-anchor=\"start\" x=\"990\" y=\"-52.8\" font-family=\"Helvetica,sans-Serif\" font-size=\"14.00\">gini = 0.328</text>\r\n<text text-anchor=\"start\" x=\"984\" y=\"-37.8\" font-family=\"Helvetica,sans-Serif\" font-size=\"14.00\">samples = 29</text>\r\n<text text-anchor=\"start\" x=\"983\" y=\"-22.8\" font-family=\"Helvetica,sans-Serif\" font-size=\"14.00\">value = [6, 23]</text>\r\n<text text-anchor=\"start\" x=\"982.5\" y=\"-7.8\" font-family=\"Helvetica,sans-Serif\" font-size=\"14.00\">class = invited</text>\r\n</g>\r\n<!-- 13&#45;&gt;15 -->\r\n<g id=\"edge15\" class=\"edge\"><title>13&#45;&gt;15</title>\r\n<path fill=\"none\" stroke=\"black\" d=\"M957.832,-103.726C967.171,-94.5142 977.082,-84.7364 986.41,-75.5343\"/>\r\n<polygon fill=\"black\" stroke=\"black\" points=\"989.083,-77.8141 993.744,-68.2996 984.167,-72.8308 989.083,-77.8141\"/>\r\n</g>\r\n<!-- 17 -->\r\n<g id=\"node18\" class=\"node\"><title>17</title>\r\n<path fill=\"#c9e4f8\" stroke=\"black\" d=\"M1295,-306C1295,-306 1206,-306 1206,-306 1200,-306 1194,-300 1194,-294 1194,-294 1194,-235 1194,-235 1194,-229 1200,-223 1206,-223 1206,-223 1295,-223 1295,-223 1301,-223 1307,-229 1307,-235 1307,-235 1307,-294 1307,-294 1307,-300 1301,-306 1295,-306\"/>\r\n<text text-anchor=\"start\" x=\"1208\" y=\"-290.8\" font-family=\"Helvetica,sans-Serif\" font-size=\"14.00\">valence ≤ 2.5</text>\r\n<text text-anchor=\"start\" x=\"1213\" y=\"-275.8\" font-family=\"Helvetica,sans-Serif\" font-size=\"14.00\">gini = 0.488</text>\r\n<text text-anchor=\"start\" x=\"1203\" y=\"-260.8\" font-family=\"Helvetica,sans-Serif\" font-size=\"14.00\">samples = 102</text>\r\n<text text-anchor=\"start\" x=\"1202\" y=\"-245.8\" font-family=\"Helvetica,sans-Serif\" font-size=\"14.00\">value = [43, 59]</text>\r\n<text text-anchor=\"start\" x=\"1205.5\" y=\"-230.8\" font-family=\"Helvetica,sans-Serif\" font-size=\"14.00\">class = invited</text>\r\n</g>\r\n<!-- 16&#45;&gt;17 -->\r\n<g id=\"edge17\" class=\"edge\"><title>16&#45;&gt;17</title>\r\n<path fill=\"none\" stroke=\"black\" d=\"M1250.5,-341.907C1250.5,-333.649 1250.5,-324.864 1250.5,-316.302\"/>\r\n<polygon fill=\"black\" stroke=\"black\" points=\"1254,-316.021 1250.5,-306.021 1247,-316.021 1254,-316.021\"/>\r\n</g>\r\n<!-- 22 -->\r\n<g id=\"node23\" class=\"node\"><title>22</title>\r\n<path fill=\"#71b9ec\" stroke=\"black\" d=\"M1565.5,-306C1565.5,-306 1467.5,-306 1467.5,-306 1461.5,-306 1455.5,-300 1455.5,-294 1455.5,-294 1455.5,-235 1455.5,-235 1455.5,-229 1461.5,-223 1467.5,-223 1467.5,-223 1565.5,-223 1565.5,-223 1571.5,-223 1577.5,-229 1577.5,-235 1577.5,-235 1577.5,-294 1577.5,-294 1577.5,-300 1571.5,-306 1565.5,-306\"/>\r\n<text text-anchor=\"start\" x=\"1475.5\" y=\"-290.8\" font-family=\"Helvetica,sans-Serif\" font-size=\"14.00\">arousal ≤ 2.5</text>\r\n<text text-anchor=\"start\" x=\"1479\" y=\"-275.8\" font-family=\"Helvetica,sans-Serif\" font-size=\"14.00\">gini = 0.345</text>\r\n<text text-anchor=\"start\" x=\"1469\" y=\"-260.8\" font-family=\"Helvetica,sans-Serif\" font-size=\"14.00\">samples = 221</text>\r\n<text text-anchor=\"start\" x=\"1463.5\" y=\"-245.8\" font-family=\"Helvetica,sans-Serif\" font-size=\"14.00\">value = [49, 172]</text>\r\n<text text-anchor=\"start\" x=\"1471.5\" y=\"-230.8\" font-family=\"Helvetica,sans-Serif\" font-size=\"14.00\">class = invited</text>\r\n</g>\r\n<!-- 16&#45;&gt;22 -->\r\n<g id=\"edge22\" class=\"edge\"><title>16&#45;&gt;22</title>\r\n<path fill=\"none\" stroke=\"black\" d=\"M1342.79,-341.907C1376.66,-327.01 1414.43,-310.397 1446.07,-296.478\"/>\r\n<polygon fill=\"black\" stroke=\"black\" points=\"1447.51,-299.669 1455.26,-292.439 1444.69,-293.261 1447.51,-299.669\"/>\r\n</g>\r\n<!-- 18 -->\r\n<g id=\"node19\" class=\"node\"><title>18</title>\r\n<path fill=\"#bbddf6\" stroke=\"black\" d=\"M1255,-187C1255,-187 1064,-187 1064,-187 1058,-187 1052,-181 1052,-175 1052,-175 1052,-116 1052,-116 1052,-110 1058,-104 1064,-104 1064,-104 1255,-104 1255,-104 1261,-104 1267,-110 1267,-116 1267,-116 1267,-175 1267,-175 1267,-181 1261,-187 1255,-187\"/>\r\n<text text-anchor=\"start\" x=\"1060\" y=\"-171.8\" font-family=\"Helvetica,sans-Serif\" font-size=\"14.00\">conscientiousness_binary ≤ 1.5</text>\r\n<text text-anchor=\"start\" x=\"1122\" y=\"-156.8\" font-family=\"Helvetica,sans-Serif\" font-size=\"14.00\">gini = 0.479</text>\r\n<text text-anchor=\"start\" x=\"1116\" y=\"-141.8\" font-family=\"Helvetica,sans-Serif\" font-size=\"14.00\">samples = 63</text>\r\n<text text-anchor=\"start\" x=\"1111\" y=\"-126.8\" font-family=\"Helvetica,sans-Serif\" font-size=\"14.00\">value = [25, 38]</text>\r\n<text text-anchor=\"start\" x=\"1114.5\" y=\"-111.8\" font-family=\"Helvetica,sans-Serif\" font-size=\"14.00\">class = invited</text>\r\n</g>\r\n<!-- 17&#45;&gt;18 -->\r\n<g id=\"edge18\" class=\"edge\"><title>17&#45;&gt;18</title>\r\n<path fill=\"none\" stroke=\"black\" d=\"M1218.93,-222.907C1211.94,-213.923 1204.47,-204.315 1197.26,-195.05\"/>\r\n<polygon fill=\"black\" stroke=\"black\" points=\"1199.92,-192.766 1191.02,-187.021 1194.39,-197.063 1199.92,-192.766\"/>\r\n</g>\r\n<!-- 21 -->\r\n<g id=\"node22\" class=\"node\"><title>21</title>\r\n<path fill=\"#e3f1fb\" stroke=\"black\" d=\"M1386,-179.5C1386,-179.5 1297,-179.5 1297,-179.5 1291,-179.5 1285,-173.5 1285,-167.5 1285,-167.5 1285,-123.5 1285,-123.5 1285,-117.5 1291,-111.5 1297,-111.5 1297,-111.5 1386,-111.5 1386,-111.5 1392,-111.5 1398,-117.5 1398,-123.5 1398,-123.5 1398,-167.5 1398,-167.5 1398,-173.5 1392,-179.5 1386,-179.5\"/>\r\n<text text-anchor=\"start\" x=\"1304\" y=\"-164.3\" font-family=\"Helvetica,sans-Serif\" font-size=\"14.00\">gini = 0.497</text>\r\n<text text-anchor=\"start\" x=\"1298\" y=\"-149.3\" font-family=\"Helvetica,sans-Serif\" font-size=\"14.00\">samples = 39</text>\r\n<text text-anchor=\"start\" x=\"1293\" y=\"-134.3\" font-family=\"Helvetica,sans-Serif\" font-size=\"14.00\">value = [18, 21]</text>\r\n<text text-anchor=\"start\" x=\"1296.5\" y=\"-119.3\" font-family=\"Helvetica,sans-Serif\" font-size=\"14.00\">class = invited</text>\r\n</g>\r\n<!-- 17&#45;&gt;21 -->\r\n<g id=\"edge21\" class=\"edge\"><title>17&#45;&gt;21</title>\r\n<path fill=\"none\" stroke=\"black\" d=\"M1282.07,-222.907C1290.91,-211.542 1300.53,-199.178 1309.4,-187.774\"/>\r\n<polygon fill=\"black\" stroke=\"black\" points=\"1312.33,-189.709 1315.7,-179.667 1306.8,-185.412 1312.33,-189.709\"/>\r\n</g>\r\n<!-- 19 -->\r\n<g id=\"node20\" class=\"node\"><title>19</title>\r\n<path fill=\"#88c4ef\" stroke=\"black\" d=\"M1192.5,-68C1192.5,-68 1110.5,-68 1110.5,-68 1104.5,-68 1098.5,-62 1098.5,-56 1098.5,-56 1098.5,-12 1098.5,-12 1098.5,-6 1104.5,-0 1110.5,-0 1110.5,-0 1192.5,-0 1192.5,-0 1198.5,-0 1204.5,-6 1204.5,-12 1204.5,-12 1204.5,-56 1204.5,-56 1204.5,-62 1198.5,-68 1192.5,-68\"/>\r\n<text text-anchor=\"start\" x=\"1114\" y=\"-52.8\" font-family=\"Helvetica,sans-Serif\" font-size=\"14.00\">gini = 0.408</text>\r\n<text text-anchor=\"start\" x=\"1108\" y=\"-37.8\" font-family=\"Helvetica,sans-Serif\" font-size=\"14.00\">samples = 28</text>\r\n<text text-anchor=\"start\" x=\"1107\" y=\"-22.8\" font-family=\"Helvetica,sans-Serif\" font-size=\"14.00\">value = [8, 20]</text>\r\n<text text-anchor=\"start\" x=\"1106.5\" y=\"-7.8\" font-family=\"Helvetica,sans-Serif\" font-size=\"14.00\">class = invited</text>\r\n</g>\r\n<!-- 18&#45;&gt;19 -->\r\n<g id=\"edge19\" class=\"edge\"><title>18&#45;&gt;19</title>\r\n<path fill=\"none\" stroke=\"black\" d=\"M1156.52,-103.726C1155.91,-95.4263 1155.27,-86.6671 1154.66,-78.2834\"/>\r\n<polygon fill=\"black\" stroke=\"black\" points=\"1158.15,-78.018 1153.93,-68.2996 1151.17,-78.5281 1158.15,-78.018\"/>\r\n</g>\r\n<!-- 20 -->\r\n<g id=\"node21\" class=\"node\"><title>20</title>\r\n<path fill=\"#f4fafe\" stroke=\"black\" d=\"M1324,-68C1324,-68 1235,-68 1235,-68 1229,-68 1223,-62 1223,-56 1223,-56 1223,-12 1223,-12 1223,-6 1229,-0 1235,-0 1235,-0 1324,-0 1324,-0 1330,-0 1336,-6 1336,-12 1336,-12 1336,-56 1336,-56 1336,-62 1330,-68 1324,-68\"/>\r\n<text text-anchor=\"start\" x=\"1250.5\" y=\"-52.8\" font-family=\"Helvetica,sans-Serif\" font-size=\"14.00\">gini = 0.5</text>\r\n<text text-anchor=\"start\" x=\"1236\" y=\"-37.8\" font-family=\"Helvetica,sans-Serif\" font-size=\"14.00\">samples = 35</text>\r\n<text text-anchor=\"start\" x=\"1231\" y=\"-22.8\" font-family=\"Helvetica,sans-Serif\" font-size=\"14.00\">value = [17, 18]</text>\r\n<text text-anchor=\"start\" x=\"1234.5\" y=\"-7.8\" font-family=\"Helvetica,sans-Serif\" font-size=\"14.00\">class = invited</text>\r\n</g>\r\n<!-- 18&#45;&gt;20 -->\r\n<g id=\"edge20\" class=\"edge\"><title>18&#45;&gt;20</title>\r\n<path fill=\"none\" stroke=\"black\" d=\"M1204.18,-103.726C1214.38,-94.423 1225.21,-84.5428 1235.38,-75.2612\"/>\r\n<polygon fill=\"black\" stroke=\"black\" points=\"1237.98,-77.6255 1243.01,-68.2996 1233.26,-72.4547 1237.98,-77.6255\"/>\r\n</g>\r\n<!-- 23 -->\r\n<g id=\"node24\" class=\"node\"><title>23</title>\r\n<path fill=\"#98ccf1\" stroke=\"black\" d=\"M1589.5,-187C1589.5,-187 1443.5,-187 1443.5,-187 1437.5,-187 1431.5,-181 1431.5,-175 1431.5,-175 1431.5,-116 1431.5,-116 1431.5,-110 1437.5,-104 1443.5,-104 1443.5,-104 1589.5,-104 1589.5,-104 1595.5,-104 1601.5,-110 1601.5,-116 1601.5,-116 1601.5,-175 1601.5,-175 1601.5,-181 1595.5,-187 1589.5,-187\"/>\r\n<text text-anchor=\"start\" x=\"1439.5\" y=\"-171.8\" font-family=\"Helvetica,sans-Serif\" font-size=\"14.00\">neuroticism_binary ≤ 1.5</text>\r\n<text text-anchor=\"start\" x=\"1479\" y=\"-156.8\" font-family=\"Helvetica,sans-Serif\" font-size=\"14.00\">gini = 0.438</text>\r\n<text text-anchor=\"start\" x=\"1473\" y=\"-141.8\" font-family=\"Helvetica,sans-Serif\" font-size=\"14.00\">samples = 99</text>\r\n<text text-anchor=\"start\" x=\"1468\" y=\"-126.8\" font-family=\"Helvetica,sans-Serif\" font-size=\"14.00\">value = [32, 67]</text>\r\n<text text-anchor=\"start\" x=\"1471.5\" y=\"-111.8\" font-family=\"Helvetica,sans-Serif\" font-size=\"14.00\">class = invited</text>\r\n</g>\r\n<!-- 22&#45;&gt;23 -->\r\n<g id=\"edge23\" class=\"edge\"><title>22&#45;&gt;23</title>\r\n<path fill=\"none\" stroke=\"black\" d=\"M1516.5,-222.907C1516.5,-214.649 1516.5,-205.864 1516.5,-197.302\"/>\r\n<polygon fill=\"black\" stroke=\"black\" points=\"1520,-197.021 1516.5,-187.021 1513,-197.021 1520,-197.021\"/>\r\n</g>\r\n<!-- 26 -->\r\n<g id=\"node27\" class=\"node\"><title>26</title>\r\n<path fill=\"#59ade9\" stroke=\"black\" d=\"M1737.5,-187C1737.5,-187 1639.5,-187 1639.5,-187 1633.5,-187 1627.5,-181 1627.5,-175 1627.5,-175 1627.5,-116 1627.5,-116 1627.5,-110 1633.5,-104 1639.5,-104 1639.5,-104 1737.5,-104 1737.5,-104 1743.5,-104 1749.5,-110 1749.5,-116 1749.5,-116 1749.5,-175 1749.5,-175 1749.5,-181 1743.5,-187 1737.5,-187\"/>\r\n<text text-anchor=\"start\" x=\"1646\" y=\"-171.8\" font-family=\"Helvetica,sans-Serif\" font-size=\"14.00\">valence ≤ 2.5</text>\r\n<text text-anchor=\"start\" x=\"1655\" y=\"-156.8\" font-family=\"Helvetica,sans-Serif\" font-size=\"14.00\">gini = 0.24</text>\r\n<text text-anchor=\"start\" x=\"1641\" y=\"-141.8\" font-family=\"Helvetica,sans-Serif\" font-size=\"14.00\">samples = 122</text>\r\n<text text-anchor=\"start\" x=\"1635.5\" y=\"-126.8\" font-family=\"Helvetica,sans-Serif\" font-size=\"14.00\">value = [17, 105]</text>\r\n<text text-anchor=\"start\" x=\"1643.5\" y=\"-111.8\" font-family=\"Helvetica,sans-Serif\" font-size=\"14.00\">class = invited</text>\r\n</g>\r\n<!-- 22&#45;&gt;26 -->\r\n<g id=\"edge26\" class=\"edge\"><title>22&#45;&gt;26</title>\r\n<path fill=\"none\" stroke=\"black\" d=\"M1576.17,-222.907C1590.45,-213.197 1605.8,-202.758 1620.42,-192.811\"/>\r\n<polygon fill=\"black\" stroke=\"black\" points=\"1622.63,-195.539 1628.93,-187.021 1618.69,-189.751 1622.63,-195.539\"/>\r\n</g>\r\n<!-- 24 -->\r\n<g id=\"node25\" class=\"node\"><title>24</title>\r\n<path fill=\"#fdf5f0\" stroke=\"black\" d=\"M1471,-68C1471,-68 1366,-68 1366,-68 1360,-68 1354,-62 1354,-56 1354,-56 1354,-12 1354,-12 1354,-6 1360,-0 1366,-0 1366,-0 1471,-0 1471,-0 1477,-0 1483,-6 1483,-12 1483,-12 1483,-56 1483,-56 1483,-62 1477,-68 1471,-68\"/>\r\n<text text-anchor=\"start\" x=\"1381\" y=\"-52.8\" font-family=\"Helvetica,sans-Serif\" font-size=\"14.00\">gini = 0.499</text>\r\n<text text-anchor=\"start\" x=\"1375\" y=\"-37.8\" font-family=\"Helvetica,sans-Serif\" font-size=\"14.00\">samples = 25</text>\r\n<text text-anchor=\"start\" x=\"1370\" y=\"-22.8\" font-family=\"Helvetica,sans-Serif\" font-size=\"14.00\">value = [13, 12]</text>\r\n<text text-anchor=\"start\" x=\"1362\" y=\"-7.8\" font-family=\"Helvetica,sans-Serif\" font-size=\"14.00\">class = not invited</text>\r\n</g>\r\n<!-- 23&#45;&gt;24 -->\r\n<g id=\"edge24\" class=\"edge\"><title>23&#45;&gt;24</title>\r\n<path fill=\"none\" stroke=\"black\" d=\"M1480.01,-103.726C1471.85,-94.6054 1463.19,-84.93 1455.02,-75.8078\"/>\r\n<polygon fill=\"black\" stroke=\"black\" points=\"1457.58,-73.417 1448.3,-68.2996 1452.36,-78.0853 1457.58,-73.417\"/>\r\n</g>\r\n<!-- 25 -->\r\n<g id=\"node26\" class=\"node\"><title>25</title>\r\n<path fill=\"#7dbfee\" stroke=\"black\" d=\"M1602,-68C1602,-68 1513,-68 1513,-68 1507,-68 1501,-62 1501,-56 1501,-56 1501,-12 1501,-12 1501,-6 1507,-0 1513,-0 1513,-0 1602,-0 1602,-0 1608,-0 1614,-6 1614,-12 1614,-12 1614,-56 1614,-56 1614,-62 1608,-68 1602,-68\"/>\r\n<text text-anchor=\"start\" x=\"1520\" y=\"-52.8\" font-family=\"Helvetica,sans-Serif\" font-size=\"14.00\">gini = 0.382</text>\r\n<text text-anchor=\"start\" x=\"1514\" y=\"-37.8\" font-family=\"Helvetica,sans-Serif\" font-size=\"14.00\">samples = 74</text>\r\n<text text-anchor=\"start\" x=\"1509\" y=\"-22.8\" font-family=\"Helvetica,sans-Serif\" font-size=\"14.00\">value = [19, 55]</text>\r\n<text text-anchor=\"start\" x=\"1512.5\" y=\"-7.8\" font-family=\"Helvetica,sans-Serif\" font-size=\"14.00\">class = invited</text>\r\n</g>\r\n<!-- 23&#45;&gt;25 -->\r\n<g id=\"edge25\" class=\"edge\"><title>23&#45;&gt;25</title>\r\n<path fill=\"none\" stroke=\"black\" d=\"M1531.77,-103.726C1534.94,-95.2439 1538.3,-86.2819 1541.5,-77.7312\"/>\r\n<polygon fill=\"black\" stroke=\"black\" points=\"1544.8,-78.892 1545.03,-68.2996 1538.25,-76.4373 1544.8,-78.892\"/>\r\n</g>\r\n<!-- 27 -->\r\n<g id=\"node28\" class=\"node\"><title>27</title>\r\n<path fill=\"#80c0ee\" stroke=\"black\" d=\"M1733,-68C1733,-68 1644,-68 1644,-68 1638,-68 1632,-62 1632,-56 1632,-56 1632,-12 1632,-12 1632,-6 1638,-0 1644,-0 1644,-0 1733,-0 1733,-0 1739,-0 1745,-6 1745,-12 1745,-12 1745,-56 1745,-56 1745,-62 1739,-68 1733,-68\"/>\r\n<text text-anchor=\"start\" x=\"1651\" y=\"-52.8\" font-family=\"Helvetica,sans-Serif\" font-size=\"14.00\">gini = 0.388</text>\r\n<text text-anchor=\"start\" x=\"1645\" y=\"-37.8\" font-family=\"Helvetica,sans-Serif\" font-size=\"14.00\">samples = 38</text>\r\n<text text-anchor=\"start\" x=\"1640\" y=\"-22.8\" font-family=\"Helvetica,sans-Serif\" font-size=\"14.00\">value = [10, 28]</text>\r\n<text text-anchor=\"start\" x=\"1643.5\" y=\"-7.8\" font-family=\"Helvetica,sans-Serif\" font-size=\"14.00\">class = invited</text>\r\n</g>\r\n<!-- 26&#45;&gt;27 -->\r\n<g id=\"edge27\" class=\"edge\"><title>26&#45;&gt;27</title>\r\n<path fill=\"none\" stroke=\"black\" d=\"M1688.5,-103.726C1688.5,-95.5175 1688.5,-86.8595 1688.5,-78.56\"/>\r\n<polygon fill=\"black\" stroke=\"black\" points=\"1692,-78.2996 1688.5,-68.2996 1685,-78.2996 1692,-78.2996\"/>\r\n</g>\r\n<!-- 28 -->\r\n<g id=\"node29\" class=\"node\"><title>28</title>\r\n<path fill=\"#4ba6e7\" stroke=\"black\" d=\"M1857.5,-68C1857.5,-68 1775.5,-68 1775.5,-68 1769.5,-68 1763.5,-62 1763.5,-56 1763.5,-56 1763.5,-12 1763.5,-12 1763.5,-6 1769.5,-0 1775.5,-0 1775.5,-0 1857.5,-0 1857.5,-0 1863.5,-0 1869.5,-6 1869.5,-12 1869.5,-12 1869.5,-56 1869.5,-56 1869.5,-62 1863.5,-68 1857.5,-68\"/>\r\n<text text-anchor=\"start\" x=\"1779\" y=\"-52.8\" font-family=\"Helvetica,sans-Serif\" font-size=\"14.00\">gini = 0.153</text>\r\n<text text-anchor=\"start\" x=\"1773\" y=\"-37.8\" font-family=\"Helvetica,sans-Serif\" font-size=\"14.00\">samples = 84</text>\r\n<text text-anchor=\"start\" x=\"1772\" y=\"-22.8\" font-family=\"Helvetica,sans-Serif\" font-size=\"14.00\">value = [7, 77]</text>\r\n<text text-anchor=\"start\" x=\"1771.5\" y=\"-7.8\" font-family=\"Helvetica,sans-Serif\" font-size=\"14.00\">class = invited</text>\r\n</g>\r\n<!-- 26&#45;&gt;28 -->\r\n<g id=\"edge28\" class=\"edge\"><title>26&#45;&gt;28</title>\r\n<path fill=\"none\" stroke=\"black\" d=\"M1736.16,-103.726C1747.14,-94.3318 1758.81,-84.349 1769.76,-74.9883\"/>\r\n<polygon fill=\"black\" stroke=\"black\" points=\"1772.25,-77.4598 1777.57,-68.2996 1767.7,-72.1406 1772.25,-77.4598\"/>\r\n</g>\r\n</g>\r\n</svg>\r\n",
      "text/plain": "<graphviz.files.Source at 0x25404aba5b0>"
     },
     "execution_count": 7,
     "metadata": {},
     "output_type": "execute_result"
    }
   ],
   "source": [
    "# Generete dot file for tree and visualize using graphviz\n",
    "import graphviz \n",
    "\n",
    "\n",
    "dot_data = tree.export_graphviz(clf, out_file=None,feature_names=X_train.columns,class_names=['not invited','invited'],filled=True, rounded=True,special_characters=True)  \n",
    "graph = graphviz.Source(dot_data)\n",
    "graph "
   ]
  },
  {
   "cell_type": "code",
   "execution_count": 16,
   "metadata": {},
   "outputs": [],
   "source": [
    "# 3 Fold Cross Validation KELM\n",
    "from sklearn.model_selection import KFold\n",
    "import kernel_elm as elm\n",
    "from sklearn.metrics import recall_score\n",
    "\n",
    "\n",
    "variables_fold = [data_all_thomas.interview_binary[:660], data_all_thomas.agreeableness_binary[:660], data_all_thomas.openness_binary[:660], data_all_thomas.neuroticism_binary[:660], data_all_thomas.extraversion_binary[:660], data_all_thomas.conscientiousness_binary[:660], data_all_thomas.arousal[:660], data_all_thomas.valence[:660], data_all_thomas.likeability[:660]]\n",
    "hyperparams_c = [100000,10000,1000,100,10,1,0.1,0.01,0.001,0.0001,0.00001]\n",
    "\n",
    "predictions_folds_660 = pd.DataFrame()\n",
    "predictions_test_set = pd.DataFrame()\n",
    "\n",
    "best_c_weighted = [100,100,1000,1000,100,10,100,100,100,10000,10000,10000,100,100,1000,1000,10,100000,100,100,100,1000,10,10,1,1000,1]\n",
    "best_c_unweighted = [1,1,10,1,1,0.01,1,10,1,100000,10,0.1,1,1,10,10,0.1,100000,100000,10,0.1,1,0.1,0.1,1,0.1,0.1]\n",
    "\n",
    "for index, variable in enumerate(variables_fold, 0):\n",
    "    kfold = KFold(3,False,None)\n",
    "    name = variable.name\n",
    "    variable = variable.to_numpy()\n",
    "    predictions_fold = []\n",
    "\n",
    "    for index_fold, (train_index, test_index) in enumerate(kfold.split(variable),(index * 3)):\n",
    "        # Create ELM\n",
    "        kelm = elm.Extreme_Learning_Machine(kernel=\"linear\",weighted=False,C=best_c_unweighted[index_fold], model_type=\"classification\")\n",
    "        # Create train and tests sets\n",
    "        X_train, X_test = video_features.iloc[train_index].to_numpy(), video_features.iloc[test_index].to_numpy()\n",
    "        y_train, y_test = variable[train_index], variable[test_index]\n",
    "        # Train model\n",
    "        kelm.train(X_train, y_train)\n",
    "        # 220 predicions test set\n",
    "        y_predict_fold = kelm.test(X_test)\n",
    "        # 300 Predictions bottom feature set (used as test set later, with voting)\n",
    "        y_predict_test_set = kelm.test(video_features[660:].to_numpy())\n",
    "        # Compute fold score (for checking if correct model)\n",
    "        fold_score = recall_score(y_test, y_predict_fold,average='macro')  \n",
    "        # Add fold prediction to list\n",
    "        predictions_fold = predictions_fold + y_predict_fold\n",
    "        predictions_test_set[name +\"_\"+ str(index_fold)] = [fold_score] + y_predict_test_set\n",
    "\n",
    "\n",
    "    # Add prediction of dimension to dataframe as column, should create 9 columns (1 per dimension)\n",
    "    predictions_folds_660[index] = [name] + predictions_fold\n",
    "    "
   ]
  },
  {
   "cell_type": "code",
   "execution_count": 17,
   "metadata": {},
   "outputs": [],
   "source": [
    "predictions_folds_660.to_csv('predictions_folds_660_unweighted.csv')\n",
    "predictions_test_set.to_csv('predictions_test_set_unweighted.csv')"
   ]
  },
  {
   "cell_type": "code",
   "execution_count": null,
   "metadata": {},
   "outputs": [],
   "source": [
    "# Create dataframe to store predictions\n",
    "report_3_model = pd.DataFrame()"
   ]
  },
  {
   "cell_type": "code",
   "execution_count": null,
   "metadata": {},
   "outputs": [],
   "source": [
    "# 3 Model fusion\n",
    "import kernel_elm as elm\n",
    "from sklearn.metrics import recall_score\n",
    "from sklearn.model_selection import KFold\n",
    "\n",
    "# Dimensions to use\n",
    "variables_fold = pd.DataFrame([data_all_thomas.interview_binary[:660], data_all_thomas.agreeableness_binary[:660], data_all_thomas.openness_binary[:660], data_all_thomas.neuroticism_binary[:660], data_all_thomas.extraversion_binary[:660], data_all_thomas.conscientiousness_binary[:660], data_all_thomas.arousal[:660], data_all_thomas.valence[:660], data_all_thomas.likeability[:660]]).transpose()\n",
    "\n",
    "# Choose dimension\n",
    "dimension = variables_fold.likeability\n",
    "\n",
    "# Best C params, dimension and fold specific\n",
    "hyperparams_c = [\n",
    "1,\n",
    "1000,\n",
    "1\n",
    "]\n",
    "\n",
    "# Create fold\n",
    "kfold = KFold(3,False,None)\n",
    "\n",
    "# Loop through folds\n",
    "for index, (train_index, test_index) in enumerate(kfold.split(dimension)):\n",
    "    # Loop through hyperparam, in order of fold (check csv)\n",
    "    kelm = elm.Extreme_Learning_Machine(kernel=\"linear\",weighted=True,C=hyperparams_c[index], model_type=\"classification\")\n",
    "    X_train, X_test = video_features.iloc[train_index].to_numpy(), video_features.iloc[test_index].to_numpy()\n",
    "    y_train, y_test = dimension[train_index].to_numpy(), dimension[test_index].to_numpy()\n",
    "    kelm.train(X_train, y_train)\n",
    "    # Get predictions of single fold (to check if correct model)\n",
    "    y_prediction_fold = kelm.test(X_test)\n",
    "    fold_score = recall_score(y_test, y_prediction_fold, average=\"macro\")\n",
    "    # Get predictions of 660 rows, creates test set per fold model\n",
    "    y_predictions_all = kelm.test(video_features.iloc[:660].to_numpy())   \n",
    "    report_3_model[dimension.name +\"_\"+ str(index)] = [fold_score] + y_predictions_all\n"
   ]
  },
  {
   "cell_type": "code",
   "execution_count": null,
   "metadata": {},
   "outputs": [],
   "source": [
    "# Save to csv\n",
    "report_3_model.to_csv('report_3_fold_weighted_train_output.csv')"
   ]
  },
  {
   "cell_type": "code",
   "execution_count": null,
   "metadata": {},
   "outputs": [],
   "source": [
    "# Single ELM\n",
    "import kernel_elm as elm\n",
    "from sklearn.metrics import classification_report, confusion_matrix,recall_score, mean_squared_error, mean_absolute_error\n",
    "from sklearn.model_selection import cross_val_score\n",
    "\n",
    "\n",
    "# Splitting and converting train and test data\n",
    "X_train, X_test, y_train, y_test = train_test_split(video_features, data_all_thomas.agreeableness_binary, train_size=440,test_size=220,shuffle=False)\n",
    "X_train = X_train.to_numpy()\n",
    "X_test = X_test.to_numpy()\n",
    "y_train = y_train.to_numpy()\n",
    "y_test = y_test.to_numpy()\n",
    "\n",
    "elmk = elm.Extreme_Learning_Machine(kernel=\"linear\",weighted=False,C=1, model_type=\"classification\")\n",
    "beta = elmk.train(X_train,y_train)\n",
    "y_predict = elmk.test(X_test)\n",
    "#recall_score(y_test, y_predict,average='macro')\n",
    "#mean_squared_error(y_test,y_predict,squared=False)\n",
    "#mean_absolute_error(y_test,y_predict)\n"
   ]
  },
  {
   "cell_type": "code",
   "execution_count": null,
   "metadata": {},
   "outputs": [],
   "source": [
    "# Multiple ELM\n",
    "import kernel_elm as elm\n",
    "from sklearn.metrics import classification_report, confusion_matrix,recall_score\n",
    "\n",
    "\n",
    "variables_mood = [labels['gold_gt_min_aro'],labels['gold_gt_min_like'],labels['gold_gt_min_val'],data_all_thomas['arousal'],data_all_thomas['likeability'],data_all_thomas['valence']]\n",
    "variables_personality_binary = [data_all_thomas.agreeableness_binary, data_all_thomas.conscientiousness_binary, data_all_thomas.extraversion_binary, data_all_thomas.neuroticism_binary, data_all_thomas.openness_binary, data_all_thomas.interview_binary]\n",
    "variables_personality_continuous = [data_all_thomas.agreeableness, data_all_thomas.conscientiousness, data_all_thomas.extraversion, data_all_thomas.neuroticism, data_all_thomas.openness, data_all_thomas.interview]\n",
    "\n",
    "hyperparams_c = [100000,10000,1000,100,10,1,0.1,0.01,0.001,0.0001,0.00001]\n",
    "gammas = [100,10,1,0.1,0.01,0.001,0.0001,0.00001,0.000001]\n",
    "weights = [True, False]\n",
    "\n",
    "report_kelms = pd.DataFrame(columns=['variable'] + hyperparams_c)\n",
    "\n",
    "for weight in weights:\n",
    "    for variable in variables_personality_binary:\n",
    "        row = [str(weight) + ' - ' + variable.name]\n",
    "        for c_var in hyperparams_c:\n",
    "            X_train, X_test, y_train, y_test = train_test_split(video_features, variable, train_size=660,test_size=300,shuffle=False)\n",
    "            X_train = X_train.to_numpy()\n",
    "            X_test = X_test.to_numpy()\n",
    "            y_train = y_train.to_numpy()\n",
    "            y_test = y_test.to_numpy()\n",
    "            kelm = elm.Extreme_Learning_Machine(C=c_var, kernel='linear', weighted=weight, model_type=\"classification\")\n",
    "            kelm.train(X_train,y_train)\n",
    "            y_pred_single = kelm.test(X_test)\n",
    "            row = row + [recall_score(y_test, y_pred_single,average='macro')]\n",
    "        report_kelms = report_kelms.append(pd.Series(row,index=report_kelms.columns),ignore_index=True)\n",
    "\n",
    "\n",
    "report_kelms.to_csv('report_personality_kelm_linear_weighted_c_binary_l2.csv')"
   ]
  }
 ]
}