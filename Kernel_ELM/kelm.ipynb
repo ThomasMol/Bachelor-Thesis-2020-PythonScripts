{
 "nbformat": 4,
 "nbformat_minor": 2,
 "metadata": {
  "language_info": {
   "name": "python",
   "codemirror_mode": {
    "name": "ipython",
    "version": 3
   },
   "version": "3.8.1-final"
  },
  "orig_nbformat": 2,
  "file_extension": ".py",
  "mimetype": "text/x-python",
  "name": "python",
  "npconvert_exporter": "python",
  "pygments_lexer": "ipython3",
  "version": 3,
  "kernelspec": {
   "name": "python38164bitc1b64a04908d4aa0af06e43278af8af3",
   "display_name": "Python 3.8.1 64-bit"
  }
 },
 "cells": [
  {
   "cell_type": "code",
   "execution_count": 2,
   "metadata": {},
   "outputs": [],
   "source": [
    "import pandas as pd\n",
    "import numpy as np\n",
    "import sklearn as sk\n",
    "import matplotlib\n",
    "import matplotlib.pyplot as plt\n",
    "import scipy\n",
    "from subprocess import call\n",
    "from IPython.display import Image\n",
    "from sklearn.model_selection import train_test_split\n",
    "from scipy import stats\n",
    "\n",
    "%matplotlib inline\n",
    "matplotlib.style.use('bmh')\n",
    "\n",
    "data_all_thomas = pd.read_excel('../annotations/data_all_thomas.xlsx')\n",
    "data_labels_video_features = pd.read_csv('../annotations/combined_labels_video_features.csv')\n",
    "labels = data_labels_video_features[['gold_gt_max_aro','gold_gt_max_like','gold_gt_max_val','gold_gt_min_aro','gold_gt_min_like','gold_gt_min_val']]\n",
    "fusion_labels_weighted = pd.read_csv('fold_cv_hard_labels_weighted_zn_l2.csv')\n",
    "#labels_max = labels[['gold_gt_max_aro','gold_gt_max_like','gold_gt_max_val']]\n",
    "#labels_min = labels[['gold_gt_min_aro','gold_gt_min_like','gold_gt_min_val']]\n"
   ]
  },
  {
   "cell_type": "code",
   "execution_count": 3,
   "metadata": {},
   "outputs": [],
   "source": [
    "# Set video features, No Normalization\n",
    "video_features = data_labels_video_features.drop(['gold_gt_max_aro','gold_gt_max_like','gold_gt_max_val','gold_gt_min_aro','gold_gt_min_like','gold_gt_min_val'],axis=1)"
   ]
  },
  {
   "cell_type": "code",
   "execution_count": 4,
   "metadata": {},
   "outputs": [],
   "source": [
    "# Applying z normalization\n",
    "video_features = video_features.apply(stats.zscore)"
   ]
  },
  {
   "cell_type": "code",
   "execution_count": 5,
   "metadata": {},
   "outputs": [],
   "source": [
    "# Applying L2 normalization\n",
    "video_features = pd.DataFrame(sk.preprocessing.normalize(video_features, norm='l2',axis=1))"
   ]
  },
  {
   "cell_type": "code",
   "execution_count": null,
   "metadata": {},
   "outputs": [],
   "source": [
    "# Splitting and converting train and test data\n",
    "X_train, X_test, y_train, y_test = train_test_split(video_features, data_all_thomas.agreeableness_binary, train_size=440,test_size=220,shuffle=False)\n",
    "\n",
    "\n",
    "X_train = X_train.to_numpy()\n",
    "X_test = X_test.to_numpy()\n",
    "y_train = y_train.to_numpy()\n",
    "y_test = y_test.to_numpy()"
   ]
  },
  {
   "cell_type": "code",
   "execution_count": 27,
   "metadata": {},
   "outputs": [],
   "source": [
    "# 3 Fold Cross Validation KELM\n",
    "from sklearn.model_selection import KFold\n",
    "import kernel_elm as elm\n",
    "from sklearn.metrics import recall_score\n",
    "\n",
    "\n",
    "variables_fold = [data_all_thomas.interview_binary[:660], data_all_thomas.agreeableness_binary[:660], data_all_thomas.openness_binary[:660], data_all_thomas.neuroticism_binary[:660], data_all_thomas.extraversion_binary[:660], data_all_thomas.conscientiousness_binary[:660], data_all_thomas.arousal[:660], data_all_thomas.valence[:660], data_all_thomas.likeability[:660]]\n",
    "hyperparams_c = [100000,10000,1000,100,10,1,0.1,0.01,0.001,0.0001,0.00001]\n",
    "\n",
    "predictions_folds_660 = pd.DataFrame()\n",
    "predictions_test_set = pd.DataFrame()\n",
    "\n",
    "best_c = [100,100,1000,1000,100,10,100,100,100,10000,10000,10000,100,100,1000,1000,10,100000,100,100,100,1000,10,10,1,1000,1]\n",
    "\n",
    "for index, variable in enumerate(variables_fold, 0):\n",
    "    kfold = KFold(3,False,None)\n",
    "    name = variable.name\n",
    "    variable = variable.to_numpy()\n",
    "    predictions_fold = []\n",
    "\n",
    "    for index_fold, (train_index, test_index) in enumerate(kfold.split(variable),(index * 3)):\n",
    "        # Create ELM\n",
    "        kelm = elm.Extreme_Learning_Machine(kernel=\"linear\",weighted=True,C=best_c[index_fold], model_type=\"classification\")\n",
    "        # Create train and tests sets\n",
    "        X_train, X_test = video_features.iloc[train_index].to_numpy(), video_features.iloc[test_index].to_numpy()\n",
    "        y_train, y_test = variable[train_index], variable[test_index]\n",
    "        # Train model\n",
    "        kelm.train(X_train, y_train)\n",
    "        # 220 predicions test set\n",
    "        y_predict_fold = kelm.test(X_test)\n",
    "        # 300 Predictions bottom feature set (used as test set later, with voting)\n",
    "        y_predict_test_set = kelm.test(video_features[660:].to_numpy())\n",
    "        # Compute fold score (for checking if correct model)\n",
    "        fold_score = recall_score(y_test, y_predict_fold,average='macro')  \n",
    "        # Add fold prediction to list\n",
    "        predictions_fold = predictions_fold + y_predict_fold\n",
    "        predictions_test_set[name +\"_\"+ str(index_fold)] = [fold_score] + y_predict_test_set\n",
    "\n",
    "\n",
    "    # Add prediction of dimension to dataframe as column, should create 9 columns (1 per dimension)\n",
    "    predictions_folds_660[index] = [name] + predictions_fold\n",
    "    "
   ]
  },
  {
   "cell_type": "code",
   "execution_count": 28,
   "metadata": {},
   "outputs": [],
   "source": [
    "predictions_folds_660.to_csv('predictions_folds_660.csv')\n",
    "predictions_test_set.to_csv('predictions_test_set.csv')"
   ]
  },
  {
   "cell_type": "code",
   "execution_count": 25,
   "metadata": {},
   "outputs": [
    {
     "name": "stdout",
     "output_type": "stream",
     "text": "[  0   1   2   3   4   5   6   7   8   9  10  11  12  13  14  15  16  17\n  18  19  20  21  22  23  24  25  26  27  28  29  30  31  32  33  34  35\n  36  37  38  39  40  41  42  43  44  45  46  47  48  49  50  51  52  53\n  54  55  56  57  58  59  60  61  62  63  64  65  66  67  68  69  70  71\n  72  73  74  75  76  77  78  79  80  81  82  83  84  85  86  87  88  89\n  90  91  92  93  94  95  96  97  98  99 100 101 102 103 104 105 106 107\n 108 109 110 111 112 113 114 115 116 117 118 119 120 121 122 123 124 125\n 126 127 128 129 130 131 132 133 134 135 136 137 138 139 140 141 142 143\n 144 145 146 147 148 149 150 151 152 153 154 155 156 157 158 159 160 161\n 162 163 164 165 166 167 168 169 170 171 172 173 174 175 176 177 178 179\n 180 181 182 183 184 185 186 187 188 189 190 191 192 193 194 195 196 197\n 198 199 200 201 202 203 204 205 206 207 208 209 210 211 212 213 214 215\n 216 217 218 219]\n[220 221 222 223 224 225 226 227 228 229 230 231 232 233 234 235 236 237\n 238 239 240 241 242 243 244 245 246 247 248 249 250 251 252 253 254 255\n 256 257 258 259 260 261 262 263 264 265 266 267 268 269 270 271 272 273\n 274 275 276 277 278 279 280 281 282 283 284 285 286 287 288 289 290 291\n 292 293 294 295 296 297 298 299 300 301 302 303 304 305 306 307 308 309\n 310 311 312 313 314 315 316 317 318 319 320 321 322 323 324 325 326 327\n 328 329 330 331 332 333 334 335 336 337 338 339 340 341 342 343 344 345\n 346 347 348 349 350 351 352 353 354 355 356 357 358 359 360 361 362 363\n 364 365 366 367 368 369 370 371 372 373 374 375 376 377 378 379 380 381\n 382 383 384 385 386 387 388 389 390 391 392 393 394 395 396 397 398 399\n 400 401 402 403 404 405 406 407 408 409 410 411 412 413 414 415 416 417\n 418 419 420 421 422 423 424 425 426 427 428 429 430 431 432 433 434 435\n 436 437 438 439]\n[440 441 442 443 444 445 446 447 448 449 450 451 452 453 454 455 456 457\n 458 459 460 461 462 463 464 465 466 467 468 469 470 471 472 473 474 475\n 476 477 478 479 480 481 482 483 484 485 486 487 488 489 490 491 492 493\n 494 495 496 497 498 499 500 501 502 503 504 505 506 507 508 509 510 511\n 512 513 514 515 516 517 518 519 520 521 522 523 524 525 526 527 528 529\n 530 531 532 533 534 535 536 537 538 539 540 541 542 543 544 545 546 547\n 548 549 550 551 552 553 554 555 556 557 558 559 560 561 562 563 564 565\n 566 567 568 569 570 571 572 573 574 575 576 577 578 579 580 581 582 583\n 584 585 586 587 588 589 590 591 592 593 594 595 596 597 598 599 600 601\n 602 603 604 605 606 607 608 609 610 611 612 613 614 615 616 617 618 619\n 620 621 622 623 624 625 626 627 628 629 630 631 632 633 634 635 636 637\n 638 639 640 641 642 643 644 645 646 647 648 649 650 651 652 653 654 655\n 656 657 658 659]\n"
    }
   ],
   "source": [
    "from sklearn.model_selection import KFold\n",
    "\n",
    "\n",
    "kfold = KFold(3,False,None)\n",
    "for train, test in kfold.split(data_all_thomas.valence[:660]):\n",
    "    print(test)"
   ]
  },
  {
   "cell_type": "code",
   "execution_count": null,
   "metadata": {},
   "outputs": [],
   "source": [
    "# Create dataframe to store predictions\n",
    "report_3_model = pd.DataFrame()"
   ]
  },
  {
   "cell_type": "code",
   "execution_count": null,
   "metadata": {},
   "outputs": [],
   "source": [
    "# 3 Model fusion\n",
    "import kernel_elm as elm\n",
    "from sklearn.metrics import recall_score\n",
    "from sklearn.model_selection import KFold\n",
    "\n",
    "# Dimensions to use\n",
    "variables_fold = pd.DataFrame([data_all_thomas.interview_binary[:660], data_all_thomas.agreeableness_binary[:660], data_all_thomas.openness_binary[:660], data_all_thomas.neuroticism_binary[:660], data_all_thomas.extraversion_binary[:660], data_all_thomas.conscientiousness_binary[:660], data_all_thomas.arousal[:660], data_all_thomas.valence[:660], data_all_thomas.likeability[:660]]).transpose()\n",
    "\n",
    "# Choose dimension\n",
    "dimension = variables_fold.likeability\n",
    "\n",
    "# Best C params, dimension and fold specific\n",
    "hyperparams_c = [\n",
    "1,\n",
    "1000,\n",
    "1\n",
    "]\n",
    "\n",
    "# Create fold\n",
    "kfold = KFold(3,False,None)\n",
    "\n",
    "# Loop through folds\n",
    "for index, (train_index, test_index) in enumerate(kfold.split(dimension)):\n",
    "    # Loop through hyperparam, in order of fold (check csv)\n",
    "    kelm = elm.Extreme_Learning_Machine(kernel=\"linear\",weighted=True,C=hyperparams_c[index], model_type=\"classification\")\n",
    "    X_train, X_test = video_features.iloc[train_index].to_numpy(), video_features.iloc[test_index].to_numpy()\n",
    "    y_train, y_test = dimension[train_index].to_numpy(), dimension[test_index].to_numpy()\n",
    "    kelm.train(X_train, y_train)\n",
    "    # Get predictions of single fold (to check if correct model)\n",
    "    y_prediction_fold = kelm.test(X_test)\n",
    "    fold_score = recall_score(y_test, y_prediction_fold, average=\"macro\")\n",
    "    # Get predictions of 660 rows, creates test set per fold model\n",
    "    y_predictions_all = kelm.test(video_features.iloc[:660].to_numpy())   \n",
    "    report_3_model[dimension.name +\"_\"+ str(index)] = [fold_score] + y_predictions_all\n"
   ]
  },
  {
   "cell_type": "code",
   "execution_count": null,
   "metadata": {},
   "outputs": [],
   "source": [
    "# Save to csv\n",
    "report_3_model.to_csv('report_3_fold_weighted_train_output.csv')"
   ]
  },
  {
   "cell_type": "code",
   "execution_count": null,
   "metadata": {},
   "outputs": [],
   "source": [
    "# Single ELM\n",
    "import kernel_elm as elm\n",
    "from sklearn.metrics import classification_report, confusion_matrix,recall_score, mean_squared_error, mean_absolute_error\n",
    "from sklearn.model_selection import cross_val_score\n",
    "\n",
    "elmk = elm.Extreme_Learning_Machine(kernel=\"linear\",weighted=False,C=1, model_type=\"classification\")\n",
    "beta = elmk.train(X_train,y_train)\n",
    "y_predict = elmk.test(X_test)\n",
    "#recall_score(y_test, y_predict,average='macro')\n",
    "#mean_squared_error(y_test,y_predict,squared=False)\n",
    "#mean_absolute_error(y_test,y_predict)\n"
   ]
  },
  {
   "cell_type": "code",
   "execution_count": null,
   "metadata": {},
   "outputs": [],
   "source": [
    "# Decision Tree pre-processing\n",
    "# Converting categorical variables to one-hot encoding\n",
    "arousal_dummy = pd.get_dummies(data_all_thomas[['arousal']].astype(str))[:660].to_numpy()\n",
    "valence_dummy = pd.get_dummies(data_all_thomas[['valence']].astype(str))[:660].to_numpy()\n",
    "likeability_dummy = pd.get_dummies(data_all_thomas[['likeability']].astype(str))[:660].to_numpy()\n",
    "\n",
    "arousal_weighted = arousal_dummy * beta_arousal\n",
    "valence_weighted = valence_dummy * beta_valence\n",
    "likeability_weighted = likeability_dummy * beta_likeability\n",
    "\n",
    "x_train_mood_weighted_categorical = np.concatenate((arousal_weighted, valence_weighted, likeability_weighted), axis=1)\n"
   ]
  },
  {
   "cell_type": "code",
   "execution_count": null,
   "metadata": {},
   "outputs": [],
   "source": [
    "# Random forest\n",
    "from sklearn.ensemble import RandomForestClassifier\n",
    "from sklearn import tree\n",
    "\n",
    "\n",
    "x_train_bin = data_all_thomas[['agreeableness_binary','conscientiousness_binary','extraversion_binary','neuroticism_binary','openness_binary']]\n",
    "y_train_bin = data_all_thomas[['interview_binary']][:660]\n",
    "\n",
    "rf = RandomForestClassifier(n_estimators=100, bootstrap=True, max_features='sqrt', max_depth=4)\n",
    "rf.fit(x_train_mood_weighted_categorical,y_train_bin)"
   ]
  },
  {
   "cell_type": "code",
   "execution_count": 12,
   "metadata": {},
   "outputs": [
    {
     "data": {
      "text/plain": "0.8338414634146342"
     },
     "execution_count": 12,
     "metadata": {},
     "output_type": "execute_result"
    }
   ],
   "source": [
    "# Decision Tree\n",
    "from sklearn.tree import DecisionTreeClassifier\n",
    "from sklearn import tree\n",
    "from sklearn.metrics import classification_report, confusion_matrix,recall_score\n",
    "\n",
    "\n",
    "person_bin = data_all_thomas[['agreeableness_binary','conscientiousness_binary','extraversion_binary','neuroticism_binary','openness_binary']]\n",
    "mood_cat = data_all_thomas[['arousal','valence','likeability']]\n",
    "mood_person_combined = data_all_thomas[['agreeableness_binary','openness_binary','neuroticism_binary','extraversion_binary','conscientiousness_binary','arousal','valence','likeability']]\n",
    "interview_bin = data_all_thomas[['interview_binary']]\n",
    "\n",
    "X_train, y_train = fusion_labels_weighted.drop(['interview_binary_0'], axis=1) , fusion_labels_weighted.interview_binary_0\n",
    "X_test, y_test = mood_person_combined[660:], interview_bin[660:]\n",
    "\n",
    "clf = DecisionTreeClassifier(random_state=None, max_depth=9, min_samples_leaf=20)\n",
    "clf.fit(X_train, y_train)\n",
    "y_predict = clf.predict(X_test)\n",
    "recall_score(y_test, y_predict, average=\"macro\")"
   ]
  },
  {
   "cell_type": "code",
   "execution_count": 13,
   "metadata": {},
   "outputs": [
    {
     "data": {
      "image/svg+xml": "<?xml version=\"1.0\" encoding=\"UTF-8\" standalone=\"no\"?>\r\n<!DOCTYPE svg PUBLIC \"-//W3C//DTD SVG 1.1//EN\"\r\n \"http://www.w3.org/Graphics/SVG/1.1/DTD/svg11.dtd\">\r\n<!-- Generated by graphviz version 2.38.0 (20140413.2041)\r\n -->\r\n<!-- Title: Tree Pages: 1 -->\r\n<svg width=\"1589pt\" height=\"790pt\"\r\n viewBox=\"0.00 0.00 1589.00 790.00\" xmlns=\"http://www.w3.org/2000/svg\" xmlns:xlink=\"http://www.w3.org/1999/xlink\">\r\n<g id=\"graph0\" class=\"graph\" transform=\"scale(1 1) rotate(0) translate(4 786)\">\r\n<title>Tree</title>\r\n<polygon fill=\"white\" stroke=\"none\" points=\"-4,4 -4,-786 1585,-786 1585,4 -4,4\"/>\r\n<!-- 0 -->\r\n<g id=\"node1\" class=\"node\"><title>0</title>\r\n<path fill=\"#fbfdff\" stroke=\"black\" d=\"M889,-782C889,-782 752,-782 752,-782 746,-782 740,-776 740,-770 740,-770 740,-711 740,-711 740,-705 746,-699 752,-699 752,-699 889,-699 889,-699 895,-699 901,-705 901,-711 901,-711 901,-770 901,-770 901,-776 895,-782 889,-782\"/>\r\n<text text-anchor=\"start\" x=\"748\" y=\"-766.8\" font-family=\"Helvetica,sans-Serif\" font-size=\"14.00\">openness_binary ≤ 1.5</text>\r\n<text text-anchor=\"start\" x=\"791.5\" y=\"-751.8\" font-family=\"Helvetica,sans-Serif\" font-size=\"14.00\">gini = 0.5</text>\r\n<text text-anchor=\"start\" x=\"773\" y=\"-736.8\" font-family=\"Helvetica,sans-Serif\" font-size=\"14.00\">samples = 660</text>\r\n<text text-anchor=\"start\" x=\"763.5\" y=\"-721.8\" font-family=\"Helvetica,sans-Serif\" font-size=\"14.00\">value = [327, 333]</text>\r\n<text text-anchor=\"start\" x=\"775.5\" y=\"-706.8\" font-family=\"Helvetica,sans-Serif\" font-size=\"14.00\">class = invited</text>\r\n</g>\r\n<!-- 1 -->\r\n<g id=\"node2\" class=\"node\"><title>1</title>\r\n<path fill=\"#eb9f68\" stroke=\"black\" d=\"M743.5,-663C743.5,-663 597.5,-663 597.5,-663 591.5,-663 585.5,-657 585.5,-651 585.5,-651 585.5,-592 585.5,-592 585.5,-586 591.5,-580 597.5,-580 597.5,-580 743.5,-580 743.5,-580 749.5,-580 755.5,-586 755.5,-592 755.5,-592 755.5,-651 755.5,-651 755.5,-657 749.5,-663 743.5,-663\"/>\r\n<text text-anchor=\"start\" x=\"593.5\" y=\"-647.8\" font-family=\"Helvetica,sans-Serif\" font-size=\"14.00\">neuroticism_binary ≤ 1.5</text>\r\n<text text-anchor=\"start\" x=\"633\" y=\"-632.8\" font-family=\"Helvetica,sans-Serif\" font-size=\"14.00\">gini = 0.312</text>\r\n<text text-anchor=\"start\" x=\"623\" y=\"-617.8\" font-family=\"Helvetica,sans-Serif\" font-size=\"14.00\">samples = 336</text>\r\n<text text-anchor=\"start\" x=\"617.5\" y=\"-602.8\" font-family=\"Helvetica,sans-Serif\" font-size=\"14.00\">value = [271, 65]</text>\r\n<text text-anchor=\"start\" x=\"614\" y=\"-587.8\" font-family=\"Helvetica,sans-Serif\" font-size=\"14.00\">class = not invited</text>\r\n</g>\r\n<!-- 0&#45;&gt;1 -->\r\n<g id=\"edge1\" class=\"edge\"><title>0&#45;&gt;1</title>\r\n<path fill=\"none\" stroke=\"black\" d=\"M768.458,-698.907C756.242,-689.379 743.126,-679.148 730.589,-669.37\"/>\r\n<polygon fill=\"black\" stroke=\"black\" points=\"732.487,-666.411 722.45,-663.021 728.182,-671.931 732.487,-666.411\"/>\r\n<text text-anchor=\"middle\" x=\"725.516\" y=\"-684.132\" font-family=\"Helvetica,sans-Serif\" font-size=\"14.00\">True</text>\r\n</g>\r\n<!-- 16 -->\r\n<g id=\"node17\" class=\"node\"><title>16</title>\r\n<path fill=\"#62b1ea\" stroke=\"black\" d=\"M1054.5,-663C1054.5,-663 886.5,-663 886.5,-663 880.5,-663 874.5,-657 874.5,-651 874.5,-651 874.5,-592 874.5,-592 874.5,-586 880.5,-580 886.5,-580 886.5,-580 1054.5,-580 1054.5,-580 1060.5,-580 1066.5,-586 1066.5,-592 1066.5,-592 1066.5,-651 1066.5,-651 1066.5,-657 1060.5,-663 1054.5,-663\"/>\r\n<text text-anchor=\"start\" x=\"882.5\" y=\"-647.8\" font-family=\"Helvetica,sans-Serif\" font-size=\"14.00\">agreeableness_binary ≤ 1.5</text>\r\n<text text-anchor=\"start\" x=\"933\" y=\"-632.8\" font-family=\"Helvetica,sans-Serif\" font-size=\"14.00\">gini = 0.286</text>\r\n<text text-anchor=\"start\" x=\"923\" y=\"-617.8\" font-family=\"Helvetica,sans-Serif\" font-size=\"14.00\">samples = 324</text>\r\n<text text-anchor=\"start\" x=\"917.5\" y=\"-602.8\" font-family=\"Helvetica,sans-Serif\" font-size=\"14.00\">value = [56, 268]</text>\r\n<text text-anchor=\"start\" x=\"925.5\" y=\"-587.8\" font-family=\"Helvetica,sans-Serif\" font-size=\"14.00\">class = invited</text>\r\n</g>\r\n<!-- 0&#45;&gt;16 -->\r\n<g id=\"edge16\" class=\"edge\"><title>0&#45;&gt;16</title>\r\n<path fill=\"none\" stroke=\"black\" d=\"M872.542,-698.907C884.758,-689.379 897.874,-679.148 910.411,-669.37\"/>\r\n<polygon fill=\"black\" stroke=\"black\" points=\"912.818,-671.931 918.55,-663.021 908.513,-666.411 912.818,-671.931\"/>\r\n<text text-anchor=\"middle\" x=\"915.484\" y=\"-684.132\" font-family=\"Helvetica,sans-Serif\" font-size=\"14.00\">False</text>\r\n</g>\r\n<!-- 2 -->\r\n<g id=\"node3\" class=\"node\"><title>2</title>\r\n<path fill=\"#e78c4a\" stroke=\"black\" d=\"M430.5,-544C430.5,-544 262.5,-544 262.5,-544 256.5,-544 250.5,-538 250.5,-532 250.5,-532 250.5,-473 250.5,-473 250.5,-467 256.5,-461 262.5,-461 262.5,-461 430.5,-461 430.5,-461 436.5,-461 442.5,-467 442.5,-473 442.5,-473 442.5,-532 442.5,-532 442.5,-538 436.5,-544 430.5,-544\"/>\r\n<text text-anchor=\"start\" x=\"258.5\" y=\"-528.8\" font-family=\"Helvetica,sans-Serif\" font-size=\"14.00\">agreeableness_binary ≤ 1.5</text>\r\n<text text-anchor=\"start\" x=\"309\" y=\"-513.8\" font-family=\"Helvetica,sans-Serif\" font-size=\"14.00\">gini = 0.149</text>\r\n<text text-anchor=\"start\" x=\"299\" y=\"-498.8\" font-family=\"Helvetica,sans-Serif\" font-size=\"14.00\">samples = 222</text>\r\n<text text-anchor=\"start\" x=\"293.5\" y=\"-483.8\" font-family=\"Helvetica,sans-Serif\" font-size=\"14.00\">value = [204, 18]</text>\r\n<text text-anchor=\"start\" x=\"290\" y=\"-468.8\" font-family=\"Helvetica,sans-Serif\" font-size=\"14.00\">class = not invited</text>\r\n</g>\r\n<!-- 1&#45;&gt;2 -->\r\n<g id=\"edge2\" class=\"edge\"><title>1&#45;&gt;2</title>\r\n<path fill=\"none\" stroke=\"black\" d=\"M585.373,-589.76C544.672,-575.062 495.543,-557.321 452.45,-541.76\"/>\r\n<polygon fill=\"black\" stroke=\"black\" points=\"453.376,-538.373 442.782,-538.269 450.999,-544.957 453.376,-538.373\"/>\r\n</g>\r\n<!-- 9 -->\r\n<g id=\"node10\" class=\"node\"><title>9</title>\r\n<path fill=\"#f7d9c4\" stroke=\"black\" d=\"M766,-544C766,-544 575,-544 575,-544 569,-544 563,-538 563,-532 563,-532 563,-473 563,-473 563,-467 569,-461 575,-461 575,-461 766,-461 766,-461 772,-461 778,-467 778,-473 778,-473 778,-532 778,-532 778,-538 772,-544 766,-544\"/>\r\n<text text-anchor=\"start\" x=\"571\" y=\"-528.8\" font-family=\"Helvetica,sans-Serif\" font-size=\"14.00\">conscientiousness_binary ≤ 1.5</text>\r\n<text text-anchor=\"start\" x=\"633\" y=\"-513.8\" font-family=\"Helvetica,sans-Serif\" font-size=\"14.00\">gini = 0.485</text>\r\n<text text-anchor=\"start\" x=\"623\" y=\"-498.8\" font-family=\"Helvetica,sans-Serif\" font-size=\"14.00\">samples = 114</text>\r\n<text text-anchor=\"start\" x=\"622\" y=\"-483.8\" font-family=\"Helvetica,sans-Serif\" font-size=\"14.00\">value = [67, 47]</text>\r\n<text text-anchor=\"start\" x=\"614\" y=\"-468.8\" font-family=\"Helvetica,sans-Serif\" font-size=\"14.00\">class = not invited</text>\r\n</g>\r\n<!-- 1&#45;&gt;9 -->\r\n<g id=\"edge9\" class=\"edge\"><title>1&#45;&gt;9</title>\r\n<path fill=\"none\" stroke=\"black\" d=\"M670.5,-579.907C670.5,-571.649 670.5,-562.864 670.5,-554.302\"/>\r\n<polygon fill=\"black\" stroke=\"black\" points=\"674,-554.021 670.5,-544.021 667,-554.021 674,-554.021\"/>\r\n</g>\r\n<!-- 3 -->\r\n<g id=\"node4\" class=\"node\"><title>3</title>\r\n<path fill=\"#e78945\" stroke=\"black\" d=\"M252,-425C252,-425 147,-425 147,-425 141,-425 135,-419 135,-413 135,-413 135,-354 135,-354 135,-348 141,-342 147,-342 147,-342 252,-342 252,-342 258,-342 264,-348 264,-354 264,-354 264,-413 264,-413 264,-419 258,-425 252,-425\"/>\r\n<text text-anchor=\"start\" x=\"158.5\" y=\"-409.8\" font-family=\"Helvetica,sans-Serif\" font-size=\"14.00\">arousal ≤ 1.5</text>\r\n<text text-anchor=\"start\" x=\"166\" y=\"-394.8\" font-family=\"Helvetica,sans-Serif\" font-size=\"14.00\">gini = 0.11</text>\r\n<text text-anchor=\"start\" x=\"152\" y=\"-379.8\" font-family=\"Helvetica,sans-Serif\" font-size=\"14.00\">samples = 189</text>\r\n<text text-anchor=\"start\" x=\"146.5\" y=\"-364.8\" font-family=\"Helvetica,sans-Serif\" font-size=\"14.00\">value = [178, 11]</text>\r\n<text text-anchor=\"start\" x=\"143\" y=\"-349.8\" font-family=\"Helvetica,sans-Serif\" font-size=\"14.00\">class = not invited</text>\r\n</g>\r\n<!-- 2&#45;&gt;3 -->\r\n<g id=\"edge3\" class=\"edge\"><title>2&#45;&gt;3</title>\r\n<path fill=\"none\" stroke=\"black\" d=\"M295.499,-460.907C283.527,-451.379 270.673,-441.148 258.387,-431.37\"/>\r\n<polygon fill=\"black\" stroke=\"black\" points=\"260.415,-428.51 250.411,-425.021 256.055,-433.987 260.415,-428.51\"/>\r\n</g>\r\n<!-- 8 -->\r\n<g id=\"node9\" class=\"node\"><title>8</title>\r\n<path fill=\"#eca36e\" stroke=\"black\" d=\"M399,-417.5C399,-417.5 294,-417.5 294,-417.5 288,-417.5 282,-411.5 282,-405.5 282,-405.5 282,-361.5 282,-361.5 282,-355.5 288,-349.5 294,-349.5 294,-349.5 399,-349.5 399,-349.5 405,-349.5 411,-355.5 411,-361.5 411,-361.5 411,-405.5 411,-405.5 411,-411.5 405,-417.5 399,-417.5\"/>\r\n<text text-anchor=\"start\" x=\"309\" y=\"-402.3\" font-family=\"Helvetica,sans-Serif\" font-size=\"14.00\">gini = 0.334</text>\r\n<text text-anchor=\"start\" x=\"303\" y=\"-387.3\" font-family=\"Helvetica,sans-Serif\" font-size=\"14.00\">samples = 33</text>\r\n<text text-anchor=\"start\" x=\"302\" y=\"-372.3\" font-family=\"Helvetica,sans-Serif\" font-size=\"14.00\">value = [26, 7]</text>\r\n<text text-anchor=\"start\" x=\"290\" y=\"-357.3\" font-family=\"Helvetica,sans-Serif\" font-size=\"14.00\">class = not invited</text>\r\n</g>\r\n<!-- 2&#45;&gt;8 -->\r\n<g id=\"edge8\" class=\"edge\"><title>2&#45;&gt;8</title>\r\n<path fill=\"none\" stroke=\"black\" d=\"M346.5,-460.907C346.5,-450.204 346.5,-438.615 346.5,-427.776\"/>\r\n<polygon fill=\"black\" stroke=\"black\" points=\"350,-427.667 346.5,-417.667 343,-427.667 350,-427.667\"/>\r\n</g>\r\n<!-- 4 -->\r\n<g id=\"node5\" class=\"node\"><title>4</title>\r\n<path fill=\"#e58139\" stroke=\"black\" d=\"M117,-298.5C117,-298.5 12,-298.5 12,-298.5 6,-298.5 0,-292.5 0,-286.5 0,-286.5 0,-242.5 0,-242.5 0,-236.5 6,-230.5 12,-230.5 12,-230.5 117,-230.5 117,-230.5 123,-230.5 129,-236.5 129,-242.5 129,-242.5 129,-286.5 129,-286.5 129,-292.5 123,-298.5 117,-298.5\"/>\r\n<text text-anchor=\"start\" x=\"35.5\" y=\"-283.3\" font-family=\"Helvetica,sans-Serif\" font-size=\"14.00\">gini = 0.0</text>\r\n<text text-anchor=\"start\" x=\"21\" y=\"-268.3\" font-family=\"Helvetica,sans-Serif\" font-size=\"14.00\">samples = 67</text>\r\n<text text-anchor=\"start\" x=\"20\" y=\"-253.3\" font-family=\"Helvetica,sans-Serif\" font-size=\"14.00\">value = [67, 0]</text>\r\n<text text-anchor=\"start\" x=\"8\" y=\"-238.3\" font-family=\"Helvetica,sans-Serif\" font-size=\"14.00\">class = not invited</text>\r\n</g>\r\n<!-- 3&#45;&gt;4 -->\r\n<g id=\"edge4\" class=\"edge\"><title>3&#45;&gt;4</title>\r\n<path fill=\"none\" stroke=\"black\" d=\"M152.662,-341.907C139.039,-330.101 124.173,-317.217 110.596,-305.45\"/>\r\n<polygon fill=\"black\" stroke=\"black\" points=\"112.619,-302.571 102.77,-298.667 108.034,-307.861 112.619,-302.571\"/>\r\n</g>\r\n<!-- 5 -->\r\n<g id=\"node6\" class=\"node\"><title>5</title>\r\n<path fill=\"#e88d4d\" stroke=\"black\" d=\"M264,-306C264,-306 159,-306 159,-306 153,-306 147,-300 147,-294 147,-294 147,-235 147,-235 147,-229 153,-223 159,-223 159,-223 264,-223 264,-223 270,-223 276,-229 276,-235 276,-235 276,-294 276,-294 276,-300 270,-306 264,-306\"/>\r\n<text text-anchor=\"start\" x=\"170.5\" y=\"-290.8\" font-family=\"Helvetica,sans-Serif\" font-size=\"14.00\">arousal ≤ 2.5</text>\r\n<text text-anchor=\"start\" x=\"174\" y=\"-275.8\" font-family=\"Helvetica,sans-Serif\" font-size=\"14.00\">gini = 0.164</text>\r\n<text text-anchor=\"start\" x=\"164\" y=\"-260.8\" font-family=\"Helvetica,sans-Serif\" font-size=\"14.00\">samples = 122</text>\r\n<text text-anchor=\"start\" x=\"158.5\" y=\"-245.8\" font-family=\"Helvetica,sans-Serif\" font-size=\"14.00\">value = [111, 11]</text>\r\n<text text-anchor=\"start\" x=\"155\" y=\"-230.8\" font-family=\"Helvetica,sans-Serif\" font-size=\"14.00\">class = not invited</text>\r\n</g>\r\n<!-- 3&#45;&gt;5 -->\r\n<g id=\"edge5\" class=\"edge\"><title>3&#45;&gt;5</title>\r\n<path fill=\"none\" stroke=\"black\" d=\"M203.663,-341.907C204.52,-333.558 205.431,-324.671 206.318,-316.02\"/>\r\n<polygon fill=\"black\" stroke=\"black\" points=\"209.805,-316.326 207.344,-306.021 202.842,-315.611 209.805,-316.326\"/>\r\n</g>\r\n<!-- 6 -->\r\n<g id=\"node7\" class=\"node\"><title>6</title>\r\n<path fill=\"#e78a47\" stroke=\"black\" d=\"M190,-179.5C190,-179.5 85,-179.5 85,-179.5 79,-179.5 73,-173.5 73,-167.5 73,-167.5 73,-123.5 73,-123.5 73,-117.5 79,-111.5 85,-111.5 85,-111.5 190,-111.5 190,-111.5 196,-111.5 202,-117.5 202,-123.5 202,-123.5 202,-167.5 202,-167.5 202,-173.5 196,-179.5 190,-179.5\"/>\r\n<text text-anchor=\"start\" x=\"100\" y=\"-164.3\" font-family=\"Helvetica,sans-Serif\" font-size=\"14.00\">gini = 0.124</text>\r\n<text text-anchor=\"start\" x=\"94\" y=\"-149.3\" font-family=\"Helvetica,sans-Serif\" font-size=\"14.00\">samples = 75</text>\r\n<text text-anchor=\"start\" x=\"93\" y=\"-134.3\" font-family=\"Helvetica,sans-Serif\" font-size=\"14.00\">value = [70, 5]</text>\r\n<text text-anchor=\"start\" x=\"81\" y=\"-119.3\" font-family=\"Helvetica,sans-Serif\" font-size=\"14.00\">class = not invited</text>\r\n</g>\r\n<!-- 5&#45;&gt;6 -->\r\n<g id=\"edge6\" class=\"edge\"><title>5&#45;&gt;6</title>\r\n<path fill=\"none\" stroke=\"black\" d=\"M185.826,-222.907C178.777,-211.763 171.121,-199.658 164.026,-188.439\"/>\r\n<polygon fill=\"black\" stroke=\"black\" points=\"166.781,-186.248 158.477,-179.667 160.865,-189.989 166.781,-186.248\"/>\r\n</g>\r\n<!-- 7 -->\r\n<g id=\"node8\" class=\"node\"><title>7</title>\r\n<path fill=\"#e99356\" stroke=\"black\" d=\"M337,-179.5C337,-179.5 232,-179.5 232,-179.5 226,-179.5 220,-173.5 220,-167.5 220,-167.5 220,-123.5 220,-123.5 220,-117.5 226,-111.5 232,-111.5 232,-111.5 337,-111.5 337,-111.5 343,-111.5 349,-117.5 349,-123.5 349,-123.5 349,-167.5 349,-167.5 349,-173.5 343,-179.5 337,-179.5\"/>\r\n<text text-anchor=\"start\" x=\"247\" y=\"-164.3\" font-family=\"Helvetica,sans-Serif\" font-size=\"14.00\">gini = 0.223</text>\r\n<text text-anchor=\"start\" x=\"241\" y=\"-149.3\" font-family=\"Helvetica,sans-Serif\" font-size=\"14.00\">samples = 47</text>\r\n<text text-anchor=\"start\" x=\"240\" y=\"-134.3\" font-family=\"Helvetica,sans-Serif\" font-size=\"14.00\">value = [41, 6]</text>\r\n<text text-anchor=\"start\" x=\"228\" y=\"-119.3\" font-family=\"Helvetica,sans-Serif\" font-size=\"14.00\">class = not invited</text>\r\n</g>\r\n<!-- 5&#45;&gt;7 -->\r\n<g id=\"edge7\" class=\"edge\"><title>5&#45;&gt;7</title>\r\n<path fill=\"none\" stroke=\"black\" d=\"M236.827,-222.907C243.781,-211.763 251.333,-199.658 258.333,-188.439\"/>\r\n<polygon fill=\"black\" stroke=\"black\" points=\"261.482,-190.004 263.806,-179.667 255.543,-186.298 261.482,-190.004\"/>\r\n</g>\r\n<!-- 10 -->\r\n<g id=\"node11\" class=\"node\"><title>10</title>\r\n<path fill=\"#eca06a\" stroke=\"black\" d=\"M591.5,-425C591.5,-425 441.5,-425 441.5,-425 435.5,-425 429.5,-419 429.5,-413 429.5,-413 429.5,-354 429.5,-354 429.5,-348 435.5,-342 441.5,-342 441.5,-342 591.5,-342 591.5,-342 597.5,-342 603.5,-348 603.5,-354 603.5,-354 603.5,-413 603.5,-413 603.5,-419 597.5,-425 591.5,-425\"/>\r\n<text text-anchor=\"start\" x=\"437.5\" y=\"-409.8\" font-family=\"Helvetica,sans-Serif\" font-size=\"14.00\">extraversion_binary ≤ 1.5</text>\r\n<text text-anchor=\"start\" x=\"483\" y=\"-394.8\" font-family=\"Helvetica,sans-Serif\" font-size=\"14.00\">gini = 0.32</text>\r\n<text text-anchor=\"start\" x=\"473\" y=\"-379.8\" font-family=\"Helvetica,sans-Serif\" font-size=\"14.00\">samples = 50</text>\r\n<text text-anchor=\"start\" x=\"468\" y=\"-364.8\" font-family=\"Helvetica,sans-Serif\" font-size=\"14.00\">value = [40, 10]</text>\r\n<text text-anchor=\"start\" x=\"460\" y=\"-349.8\" font-family=\"Helvetica,sans-Serif\" font-size=\"14.00\">class = not invited</text>\r\n</g>\r\n<!-- 9&#45;&gt;10 -->\r\n<g id=\"edge10\" class=\"edge\"><title>9&#45;&gt;10</title>\r\n<path fill=\"none\" stroke=\"black\" d=\"M617.07,-460.907C604.409,-451.288 590.806,-440.953 577.824,-431.09\"/>\r\n<polygon fill=\"black\" stroke=\"black\" points=\"579.915,-428.283 569.835,-425.021 575.68,-433.857 579.915,-428.283\"/>\r\n</g>\r\n<!-- 13 -->\r\n<g id=\"node14\" class=\"node\"><title>13</title>\r\n<path fill=\"#c9e5f8\" stroke=\"black\" d=\"M783.5,-425C783.5,-425 633.5,-425 633.5,-425 627.5,-425 621.5,-419 621.5,-413 621.5,-413 621.5,-354 621.5,-354 621.5,-348 627.5,-342 633.5,-342 633.5,-342 783.5,-342 783.5,-342 789.5,-342 795.5,-348 795.5,-354 795.5,-354 795.5,-413 795.5,-413 795.5,-419 789.5,-425 783.5,-425\"/>\r\n<text text-anchor=\"start\" x=\"629.5\" y=\"-409.8\" font-family=\"Helvetica,sans-Serif\" font-size=\"14.00\">extraversion_binary ≤ 1.5</text>\r\n<text text-anchor=\"start\" x=\"671\" y=\"-394.8\" font-family=\"Helvetica,sans-Serif\" font-size=\"14.00\">gini = 0.488</text>\r\n<text text-anchor=\"start\" x=\"665\" y=\"-379.8\" font-family=\"Helvetica,sans-Serif\" font-size=\"14.00\">samples = 64</text>\r\n<text text-anchor=\"start\" x=\"660\" y=\"-364.8\" font-family=\"Helvetica,sans-Serif\" font-size=\"14.00\">value = [27, 37]</text>\r\n<text text-anchor=\"start\" x=\"663.5\" y=\"-349.8\" font-family=\"Helvetica,sans-Serif\" font-size=\"14.00\">class = invited</text>\r\n</g>\r\n<!-- 9&#45;&gt;13 -->\r\n<g id=\"edge13\" class=\"edge\"><title>9&#45;&gt;13</title>\r\n<path fill=\"none\" stroke=\"black\" d=\"M683.684,-460.907C686.425,-452.468 689.345,-443.477 692.183,-434.738\"/>\r\n<polygon fill=\"black\" stroke=\"black\" points=\"695.579,-435.613 695.339,-425.021 688.921,-433.451 695.579,-435.613\"/>\r\n</g>\r\n<!-- 11 -->\r\n<g id=\"node12\" class=\"node\"><title>11</title>\r\n<path fill=\"#ea9a61\" stroke=\"black\" d=\"M422,-298.5C422,-298.5 317,-298.5 317,-298.5 311,-298.5 305,-292.5 305,-286.5 305,-286.5 305,-242.5 305,-242.5 305,-236.5 311,-230.5 317,-230.5 317,-230.5 422,-230.5 422,-230.5 428,-230.5 434,-236.5 434,-242.5 434,-242.5 434,-286.5 434,-286.5 434,-292.5 428,-298.5 422,-298.5\"/>\r\n<text text-anchor=\"start\" x=\"332\" y=\"-283.3\" font-family=\"Helvetica,sans-Serif\" font-size=\"14.00\">gini = 0.278</text>\r\n<text text-anchor=\"start\" x=\"326\" y=\"-268.3\" font-family=\"Helvetica,sans-Serif\" font-size=\"14.00\">samples = 30</text>\r\n<text text-anchor=\"start\" x=\"325\" y=\"-253.3\" font-family=\"Helvetica,sans-Serif\" font-size=\"14.00\">value = [25, 5]</text>\r\n<text text-anchor=\"start\" x=\"313\" y=\"-238.3\" font-family=\"Helvetica,sans-Serif\" font-size=\"14.00\">class = not invited</text>\r\n</g>\r\n<!-- 10&#45;&gt;11 -->\r\n<g id=\"edge11\" class=\"edge\"><title>10&#45;&gt;11</title>\r\n<path fill=\"none\" stroke=\"black\" d=\"M465.499,-341.907C450.526,-329.99 434.175,-316.976 419.279,-305.12\"/>\r\n<polygon fill=\"black\" stroke=\"black\" points=\"421.175,-302.156 411.171,-298.667 416.816,-307.633 421.175,-302.156\"/>\r\n</g>\r\n<!-- 12 -->\r\n<g id=\"node13\" class=\"node\"><title>12</title>\r\n<path fill=\"#eeab7b\" stroke=\"black\" d=\"M569,-298.5C569,-298.5 464,-298.5 464,-298.5 458,-298.5 452,-292.5 452,-286.5 452,-286.5 452,-242.5 452,-242.5 452,-236.5 458,-230.5 464,-230.5 464,-230.5 569,-230.5 569,-230.5 575,-230.5 581,-236.5 581,-242.5 581,-242.5 581,-286.5 581,-286.5 581,-292.5 575,-298.5 569,-298.5\"/>\r\n<text text-anchor=\"start\" x=\"479\" y=\"-283.3\" font-family=\"Helvetica,sans-Serif\" font-size=\"14.00\">gini = 0.375</text>\r\n<text text-anchor=\"start\" x=\"473\" y=\"-268.3\" font-family=\"Helvetica,sans-Serif\" font-size=\"14.00\">samples = 20</text>\r\n<text text-anchor=\"start\" x=\"472\" y=\"-253.3\" font-family=\"Helvetica,sans-Serif\" font-size=\"14.00\">value = [15, 5]</text>\r\n<text text-anchor=\"start\" x=\"460\" y=\"-238.3\" font-family=\"Helvetica,sans-Serif\" font-size=\"14.00\">class = not invited</text>\r\n</g>\r\n<!-- 10&#45;&gt;12 -->\r\n<g id=\"edge12\" class=\"edge\"><title>10&#45;&gt;12</title>\r\n<path fill=\"none\" stroke=\"black\" d=\"M516.5,-341.907C516.5,-331.204 516.5,-319.615 516.5,-308.776\"/>\r\n<polygon fill=\"black\" stroke=\"black\" points=\"520,-308.667 516.5,-298.667 513,-308.667 520,-308.667\"/>\r\n</g>\r\n<!-- 14 -->\r\n<g id=\"node15\" class=\"node\"><title>14</title>\r\n<path fill=\"#f8e0ce\" stroke=\"black\" d=\"M716,-298.5C716,-298.5 611,-298.5 611,-298.5 605,-298.5 599,-292.5 599,-286.5 599,-286.5 599,-242.5 599,-242.5 599,-236.5 605,-230.5 611,-230.5 611,-230.5 716,-230.5 716,-230.5 722,-230.5 728,-236.5 728,-242.5 728,-242.5 728,-286.5 728,-286.5 728,-292.5 722,-298.5 716,-298.5\"/>\r\n<text text-anchor=\"start\" x=\"630\" y=\"-283.3\" font-family=\"Helvetica,sans-Serif\" font-size=\"14.00\">gini = 0.49</text>\r\n<text text-anchor=\"start\" x=\"620\" y=\"-268.3\" font-family=\"Helvetica,sans-Serif\" font-size=\"14.00\">samples = 42</text>\r\n<text text-anchor=\"start\" x=\"615\" y=\"-253.3\" font-family=\"Helvetica,sans-Serif\" font-size=\"14.00\">value = [24, 18]</text>\r\n<text text-anchor=\"start\" x=\"607\" y=\"-238.3\" font-family=\"Helvetica,sans-Serif\" font-size=\"14.00\">class = not invited</text>\r\n</g>\r\n<!-- 13&#45;&gt;14 -->\r\n<g id=\"edge14\" class=\"edge\"><title>13&#45;&gt;14</title>\r\n<path fill=\"none\" stroke=\"black\" d=\"M692.887,-341.907C688.686,-330.983 684.13,-319.137 679.887,-308.107\"/>\r\n<polygon fill=\"black\" stroke=\"black\" points=\"683.113,-306.744 676.257,-298.667 676.58,-309.257 683.113,-306.744\"/>\r\n</g>\r\n<!-- 15 -->\r\n<g id=\"node16\" class=\"node\"><title>15</title>\r\n<path fill=\"#58ace9\" stroke=\"black\" d=\"M840.5,-298.5C840.5,-298.5 758.5,-298.5 758.5,-298.5 752.5,-298.5 746.5,-292.5 746.5,-286.5 746.5,-286.5 746.5,-242.5 746.5,-242.5 746.5,-236.5 752.5,-230.5 758.5,-230.5 758.5,-230.5 840.5,-230.5 840.5,-230.5 846.5,-230.5 852.5,-236.5 852.5,-242.5 852.5,-242.5 852.5,-286.5 852.5,-286.5 852.5,-292.5 846.5,-298.5 840.5,-298.5\"/>\r\n<text text-anchor=\"start\" x=\"762\" y=\"-283.3\" font-family=\"Helvetica,sans-Serif\" font-size=\"14.00\">gini = 0.236</text>\r\n<text text-anchor=\"start\" x=\"756\" y=\"-268.3\" font-family=\"Helvetica,sans-Serif\" font-size=\"14.00\">samples = 22</text>\r\n<text text-anchor=\"start\" x=\"755\" y=\"-253.3\" font-family=\"Helvetica,sans-Serif\" font-size=\"14.00\">value = [3, 19]</text>\r\n<text text-anchor=\"start\" x=\"754.5\" y=\"-238.3\" font-family=\"Helvetica,sans-Serif\" font-size=\"14.00\">class = invited</text>\r\n</g>\r\n<!-- 13&#45;&gt;15 -->\r\n<g id=\"edge15\" class=\"edge\"><title>13&#45;&gt;15</title>\r\n<path fill=\"none\" stroke=\"black\" d=\"M740.072,-341.907C748.912,-330.542 758.528,-318.178 767.398,-306.774\"/>\r\n<polygon fill=\"black\" stroke=\"black\" points=\"770.327,-308.709 773.703,-298.667 764.801,-304.412 770.327,-308.709\"/>\r\n</g>\r\n<!-- 17 -->\r\n<g id=\"node18\" class=\"node\"><title>17</title>\r\n<path fill=\"#e9f4fc\" stroke=\"black\" d=\"M1066,-544C1066,-544 875,-544 875,-544 869,-544 863,-538 863,-532 863,-532 863,-473 863,-473 863,-467 869,-461 875,-461 875,-461 1066,-461 1066,-461 1072,-461 1078,-467 1078,-473 1078,-473 1078,-532 1078,-532 1078,-538 1072,-544 1066,-544\"/>\r\n<text text-anchor=\"start\" x=\"871\" y=\"-528.8\" font-family=\"Helvetica,sans-Serif\" font-size=\"14.00\">conscientiousness_binary ≤ 1.5</text>\r\n<text text-anchor=\"start\" x=\"933\" y=\"-513.8\" font-family=\"Helvetica,sans-Serif\" font-size=\"14.00\">gini = 0.498</text>\r\n<text text-anchor=\"start\" x=\"927\" y=\"-498.8\" font-family=\"Helvetica,sans-Serif\" font-size=\"14.00\">samples = 85</text>\r\n<text text-anchor=\"start\" x=\"922\" y=\"-483.8\" font-family=\"Helvetica,sans-Serif\" font-size=\"14.00\">value = [40, 45]</text>\r\n<text text-anchor=\"start\" x=\"925.5\" y=\"-468.8\" font-family=\"Helvetica,sans-Serif\" font-size=\"14.00\">class = invited</text>\r\n</g>\r\n<!-- 16&#45;&gt;17 -->\r\n<g id=\"edge17\" class=\"edge\"><title>16&#45;&gt;17</title>\r\n<path fill=\"none\" stroke=\"black\" d=\"M970.5,-579.907C970.5,-571.649 970.5,-562.864 970.5,-554.302\"/>\r\n<polygon fill=\"black\" stroke=\"black\" points=\"974,-554.021 970.5,-544.021 967,-554.021 974,-554.021\"/>\r\n</g>\r\n<!-- 22 -->\r\n<g id=\"node23\" class=\"node\"><title>22</title>\r\n<path fill=\"#47a4e7\" stroke=\"black\" d=\"M1290.5,-544C1290.5,-544 1144.5,-544 1144.5,-544 1138.5,-544 1132.5,-538 1132.5,-532 1132.5,-532 1132.5,-473 1132.5,-473 1132.5,-467 1138.5,-461 1144.5,-461 1144.5,-461 1290.5,-461 1290.5,-461 1296.5,-461 1302.5,-467 1302.5,-473 1302.5,-473 1302.5,-532 1302.5,-532 1302.5,-538 1296.5,-544 1290.5,-544\"/>\r\n<text text-anchor=\"start\" x=\"1140.5\" y=\"-528.8\" font-family=\"Helvetica,sans-Serif\" font-size=\"14.00\">neuroticism_binary ≤ 1.5</text>\r\n<text text-anchor=\"start\" x=\"1180\" y=\"-513.8\" font-family=\"Helvetica,sans-Serif\" font-size=\"14.00\">gini = 0.125</text>\r\n<text text-anchor=\"start\" x=\"1170\" y=\"-498.8\" font-family=\"Helvetica,sans-Serif\" font-size=\"14.00\">samples = 239</text>\r\n<text text-anchor=\"start\" x=\"1164.5\" y=\"-483.8\" font-family=\"Helvetica,sans-Serif\" font-size=\"14.00\">value = [16, 223]</text>\r\n<text text-anchor=\"start\" x=\"1172.5\" y=\"-468.8\" font-family=\"Helvetica,sans-Serif\" font-size=\"14.00\">class = invited</text>\r\n</g>\r\n<!-- 16&#45;&gt;22 -->\r\n<g id=\"edge22\" class=\"edge\"><title>16&#45;&gt;22</title>\r\n<path fill=\"none\" stroke=\"black\" d=\"M1056.2,-579.907C1077.87,-569.64 1101.27,-558.558 1123.34,-548.104\"/>\r\n<polygon fill=\"black\" stroke=\"black\" points=\"1124.83,-551.267 1132.37,-543.823 1121.84,-544.941 1124.83,-551.267\"/>\r\n</g>\r\n<!-- 18 -->\r\n<g id=\"node19\" class=\"node\"><title>18</title>\r\n<path fill=\"#f0b68c\" stroke=\"black\" d=\"M1010.5,-425C1010.5,-425 860.5,-425 860.5,-425 854.5,-425 848.5,-419 848.5,-413 848.5,-413 848.5,-354 848.5,-354 848.5,-348 854.5,-342 860.5,-342 860.5,-342 1010.5,-342 1010.5,-342 1016.5,-342 1022.5,-348 1022.5,-354 1022.5,-354 1022.5,-413 1022.5,-413 1022.5,-419 1016.5,-425 1010.5,-425\"/>\r\n<text text-anchor=\"start\" x=\"856.5\" y=\"-409.8\" font-family=\"Helvetica,sans-Serif\" font-size=\"14.00\">extraversion_binary ≤ 1.5</text>\r\n<text text-anchor=\"start\" x=\"898\" y=\"-394.8\" font-family=\"Helvetica,sans-Serif\" font-size=\"14.00\">gini = 0.416</text>\r\n<text text-anchor=\"start\" x=\"892\" y=\"-379.8\" font-family=\"Helvetica,sans-Serif\" font-size=\"14.00\">samples = 44</text>\r\n<text text-anchor=\"start\" x=\"887\" y=\"-364.8\" font-family=\"Helvetica,sans-Serif\" font-size=\"14.00\">value = [31, 13]</text>\r\n<text text-anchor=\"start\" x=\"879\" y=\"-349.8\" font-family=\"Helvetica,sans-Serif\" font-size=\"14.00\">class = not invited</text>\r\n</g>\r\n<!-- 17&#45;&gt;18 -->\r\n<g id=\"edge18\" class=\"edge\"><title>17&#45;&gt;18</title>\r\n<path fill=\"none\" stroke=\"black\" d=\"M958.357,-460.907C955.832,-452.468 953.143,-443.477 950.529,-434.738\"/>\r\n<polygon fill=\"black\" stroke=\"black\" points=\"953.841,-433.598 947.622,-425.021 947.134,-435.604 953.841,-433.598\"/>\r\n</g>\r\n<!-- 21 -->\r\n<g id=\"node22\" class=\"node\"><title>21</title>\r\n<path fill=\"#71b9ec\" stroke=\"black\" d=\"M1134.5,-417.5C1134.5,-417.5 1052.5,-417.5 1052.5,-417.5 1046.5,-417.5 1040.5,-411.5 1040.5,-405.5 1040.5,-405.5 1040.5,-361.5 1040.5,-361.5 1040.5,-355.5 1046.5,-349.5 1052.5,-349.5 1052.5,-349.5 1134.5,-349.5 1134.5,-349.5 1140.5,-349.5 1146.5,-355.5 1146.5,-361.5 1146.5,-361.5 1146.5,-405.5 1146.5,-405.5 1146.5,-411.5 1140.5,-417.5 1134.5,-417.5\"/>\r\n<text text-anchor=\"start\" x=\"1056\" y=\"-402.3\" font-family=\"Helvetica,sans-Serif\" font-size=\"14.00\">gini = 0.343</text>\r\n<text text-anchor=\"start\" x=\"1050\" y=\"-387.3\" font-family=\"Helvetica,sans-Serif\" font-size=\"14.00\">samples = 41</text>\r\n<text text-anchor=\"start\" x=\"1049\" y=\"-372.3\" font-family=\"Helvetica,sans-Serif\" font-size=\"14.00\">value = [9, 32]</text>\r\n<text text-anchor=\"start\" x=\"1048.5\" y=\"-357.3\" font-family=\"Helvetica,sans-Serif\" font-size=\"14.00\">class = invited</text>\r\n</g>\r\n<!-- 17&#45;&gt;21 -->\r\n<g id=\"edge21\" class=\"edge\"><title>17&#45;&gt;21</title>\r\n<path fill=\"none\" stroke=\"black\" d=\"M1013.17,-460.907C1025.47,-449.211 1038.88,-436.457 1051.15,-424.78\"/>\r\n<polygon fill=\"black\" stroke=\"black\" points=\"1053.8,-427.095 1058.63,-417.667 1048.97,-422.023 1053.8,-427.095\"/>\r\n</g>\r\n<!-- 19 -->\r\n<g id=\"node20\" class=\"node\"><title>19</title>\r\n<path fill=\"#eeab7b\" stroke=\"black\" d=\"M988,-298.5C988,-298.5 883,-298.5 883,-298.5 877,-298.5 871,-292.5 871,-286.5 871,-286.5 871,-242.5 871,-242.5 871,-236.5 877,-230.5 883,-230.5 883,-230.5 988,-230.5 988,-230.5 994,-230.5 1000,-236.5 1000,-242.5 1000,-242.5 1000,-286.5 1000,-286.5 1000,-292.5 994,-298.5 988,-298.5\"/>\r\n<text text-anchor=\"start\" x=\"898\" y=\"-283.3\" font-family=\"Helvetica,sans-Serif\" font-size=\"14.00\">gini = 0.375</text>\r\n<text text-anchor=\"start\" x=\"892\" y=\"-268.3\" font-family=\"Helvetica,sans-Serif\" font-size=\"14.00\">samples = 20</text>\r\n<text text-anchor=\"start\" x=\"891\" y=\"-253.3\" font-family=\"Helvetica,sans-Serif\" font-size=\"14.00\">value = [15, 5]</text>\r\n<text text-anchor=\"start\" x=\"879\" y=\"-238.3\" font-family=\"Helvetica,sans-Serif\" font-size=\"14.00\">class = not invited</text>\r\n</g>\r\n<!-- 18&#45;&gt;19 -->\r\n<g id=\"edge19\" class=\"edge\"><title>18&#45;&gt;19</title>\r\n<path fill=\"none\" stroke=\"black\" d=\"M935.5,-341.907C935.5,-331.204 935.5,-319.615 935.5,-308.776\"/>\r\n<polygon fill=\"black\" stroke=\"black\" points=\"939,-308.667 935.5,-298.667 932,-308.667 939,-308.667\"/>\r\n</g>\r\n<!-- 20 -->\r\n<g id=\"node21\" class=\"node\"><title>20</title>\r\n<path fill=\"#f2c09c\" stroke=\"black\" d=\"M1135,-298.5C1135,-298.5 1030,-298.5 1030,-298.5 1024,-298.5 1018,-292.5 1018,-286.5 1018,-286.5 1018,-242.5 1018,-242.5 1018,-236.5 1024,-230.5 1030,-230.5 1030,-230.5 1135,-230.5 1135,-230.5 1141,-230.5 1147,-236.5 1147,-242.5 1147,-242.5 1147,-286.5 1147,-286.5 1147,-292.5 1141,-298.5 1135,-298.5\"/>\r\n<text text-anchor=\"start\" x=\"1045\" y=\"-283.3\" font-family=\"Helvetica,sans-Serif\" font-size=\"14.00\">gini = 0.444</text>\r\n<text text-anchor=\"start\" x=\"1039\" y=\"-268.3\" font-family=\"Helvetica,sans-Serif\" font-size=\"14.00\">samples = 24</text>\r\n<text text-anchor=\"start\" x=\"1038\" y=\"-253.3\" font-family=\"Helvetica,sans-Serif\" font-size=\"14.00\">value = [16, 8]</text>\r\n<text text-anchor=\"start\" x=\"1026\" y=\"-238.3\" font-family=\"Helvetica,sans-Serif\" font-size=\"14.00\">class = not invited</text>\r\n</g>\r\n<!-- 18&#45;&gt;20 -->\r\n<g id=\"edge20\" class=\"edge\"><title>18&#45;&gt;20</title>\r\n<path fill=\"none\" stroke=\"black\" d=\"M986.501,-341.907C1001.47,-329.99 1017.83,-316.976 1032.72,-305.12\"/>\r\n<polygon fill=\"black\" stroke=\"black\" points=\"1035.18,-307.633 1040.83,-298.667 1030.82,-302.156 1035.18,-307.633\"/>\r\n</g>\r\n<!-- 23 -->\r\n<g id=\"node24\" class=\"node\"><title>23</title>\r\n<path fill=\"#7bbeee\" stroke=\"black\" d=\"M1258.5,-417.5C1258.5,-417.5 1176.5,-417.5 1176.5,-417.5 1170.5,-417.5 1164.5,-411.5 1164.5,-405.5 1164.5,-405.5 1164.5,-361.5 1164.5,-361.5 1164.5,-355.5 1170.5,-349.5 1176.5,-349.5 1176.5,-349.5 1258.5,-349.5 1258.5,-349.5 1264.5,-349.5 1270.5,-355.5 1270.5,-361.5 1270.5,-361.5 1270.5,-405.5 1270.5,-405.5 1270.5,-411.5 1264.5,-417.5 1258.5,-417.5\"/>\r\n<text text-anchor=\"start\" x=\"1180\" y=\"-402.3\" font-family=\"Helvetica,sans-Serif\" font-size=\"14.00\">gini = 0.375</text>\r\n<text text-anchor=\"start\" x=\"1174\" y=\"-387.3\" font-family=\"Helvetica,sans-Serif\" font-size=\"14.00\">samples = 36</text>\r\n<text text-anchor=\"start\" x=\"1173\" y=\"-372.3\" font-family=\"Helvetica,sans-Serif\" font-size=\"14.00\">value = [9, 27]</text>\r\n<text text-anchor=\"start\" x=\"1172.5\" y=\"-357.3\" font-family=\"Helvetica,sans-Serif\" font-size=\"14.00\">class = invited</text>\r\n</g>\r\n<!-- 22&#45;&gt;23 -->\r\n<g id=\"edge23\" class=\"edge\"><title>22&#45;&gt;23</title>\r\n<path fill=\"none\" stroke=\"black\" d=\"M1217.5,-460.907C1217.5,-450.204 1217.5,-438.615 1217.5,-427.776\"/>\r\n<polygon fill=\"black\" stroke=\"black\" points=\"1221,-427.667 1217.5,-417.667 1214,-427.667 1221,-427.667\"/>\r\n</g>\r\n<!-- 24 -->\r\n<g id=\"node25\" class=\"node\"><title>24</title>\r\n<path fill=\"#40a0e6\" stroke=\"black\" d=\"M1492,-425C1492,-425 1301,-425 1301,-425 1295,-425 1289,-419 1289,-413 1289,-413 1289,-354 1289,-354 1289,-348 1295,-342 1301,-342 1301,-342 1492,-342 1492,-342 1498,-342 1504,-348 1504,-354 1504,-354 1504,-413 1504,-413 1504,-419 1498,-425 1492,-425\"/>\r\n<text text-anchor=\"start\" x=\"1297\" y=\"-409.8\" font-family=\"Helvetica,sans-Serif\" font-size=\"14.00\">conscientiousness_binary ≤ 1.5</text>\r\n<text text-anchor=\"start\" x=\"1359\" y=\"-394.8\" font-family=\"Helvetica,sans-Serif\" font-size=\"14.00\">gini = 0.067</text>\r\n<text text-anchor=\"start\" x=\"1349\" y=\"-379.8\" font-family=\"Helvetica,sans-Serif\" font-size=\"14.00\">samples = 203</text>\r\n<text text-anchor=\"start\" x=\"1348\" y=\"-364.8\" font-family=\"Helvetica,sans-Serif\" font-size=\"14.00\">value = [7, 196]</text>\r\n<text text-anchor=\"start\" x=\"1351.5\" y=\"-349.8\" font-family=\"Helvetica,sans-Serif\" font-size=\"14.00\">class = invited</text>\r\n</g>\r\n<!-- 22&#45;&gt;24 -->\r\n<g id=\"edge24\" class=\"edge\"><title>22&#45;&gt;24</title>\r\n<path fill=\"none\" stroke=\"black\" d=\"M1279.6,-460.907C1294.6,-451.106 1310.73,-440.563 1326.07,-430.533\"/>\r\n<polygon fill=\"black\" stroke=\"black\" points=\"1328.05,-433.422 1334.51,-425.021 1324.22,-427.562 1328.05,-433.422\"/>\r\n</g>\r\n<!-- 25 -->\r\n<g id=\"node26\" class=\"node\"><title>25</title>\r\n<path fill=\"#4ba6e7\" stroke=\"black\" d=\"M1373.5,-298.5C1373.5,-298.5 1291.5,-298.5 1291.5,-298.5 1285.5,-298.5 1279.5,-292.5 1279.5,-286.5 1279.5,-286.5 1279.5,-242.5 1279.5,-242.5 1279.5,-236.5 1285.5,-230.5 1291.5,-230.5 1291.5,-230.5 1373.5,-230.5 1373.5,-230.5 1379.5,-230.5 1385.5,-236.5 1385.5,-242.5 1385.5,-242.5 1385.5,-286.5 1385.5,-286.5 1385.5,-292.5 1379.5,-298.5 1373.5,-298.5\"/>\r\n<text text-anchor=\"start\" x=\"1295\" y=\"-283.3\" font-family=\"Helvetica,sans-Serif\" font-size=\"14.00\">gini = 0.153</text>\r\n<text text-anchor=\"start\" x=\"1289\" y=\"-268.3\" font-family=\"Helvetica,sans-Serif\" font-size=\"14.00\">samples = 36</text>\r\n<text text-anchor=\"start\" x=\"1288\" y=\"-253.3\" font-family=\"Helvetica,sans-Serif\" font-size=\"14.00\">value = [3, 33]</text>\r\n<text text-anchor=\"start\" x=\"1287.5\" y=\"-238.3\" font-family=\"Helvetica,sans-Serif\" font-size=\"14.00\">class = invited</text>\r\n</g>\r\n<!-- 24&#45;&gt;25 -->\r\n<g id=\"edge25\" class=\"edge\"><title>24&#45;&gt;25</title>\r\n<path fill=\"none\" stroke=\"black\" d=\"M1374.3,-341.907C1368.26,-330.873 1361.71,-318.898 1355.62,-307.773\"/>\r\n<polygon fill=\"black\" stroke=\"black\" points=\"1358.51,-305.76 1350.64,-298.667 1352.37,-309.12 1358.51,-305.76\"/>\r\n</g>\r\n<!-- 26 -->\r\n<g id=\"node27\" class=\"node\"><title>26</title>\r\n<path fill=\"#3e9fe6\" stroke=\"black\" d=\"M1505,-306C1505,-306 1416,-306 1416,-306 1410,-306 1404,-300 1404,-294 1404,-294 1404,-235 1404,-235 1404,-229 1410,-223 1416,-223 1416,-223 1505,-223 1505,-223 1511,-223 1517,-229 1517,-235 1517,-235 1517,-294 1517,-294 1517,-300 1511,-306 1505,-306\"/>\r\n<text text-anchor=\"start\" x=\"1418\" y=\"-290.8\" font-family=\"Helvetica,sans-Serif\" font-size=\"14.00\">valence ≤ 2.5</text>\r\n<text text-anchor=\"start\" x=\"1423\" y=\"-275.8\" font-family=\"Helvetica,sans-Serif\" font-size=\"14.00\">gini = 0.047</text>\r\n<text text-anchor=\"start\" x=\"1413\" y=\"-260.8\" font-family=\"Helvetica,sans-Serif\" font-size=\"14.00\">samples = 167</text>\r\n<text text-anchor=\"start\" x=\"1412\" y=\"-245.8\" font-family=\"Helvetica,sans-Serif\" font-size=\"14.00\">value = [4, 163]</text>\r\n<text text-anchor=\"start\" x=\"1415.5\" y=\"-230.8\" font-family=\"Helvetica,sans-Serif\" font-size=\"14.00\">class = invited</text>\r\n</g>\r\n<!-- 24&#45;&gt;26 -->\r\n<g id=\"edge26\" class=\"edge\"><title>24&#45;&gt;26</title>\r\n<path fill=\"none\" stroke=\"black\" d=\"M1418.7,-341.907C1423.47,-333.195 1428.56,-323.897 1433.48,-314.893\"/>\r\n<polygon fill=\"black\" stroke=\"black\" points=\"1436.61,-316.474 1438.33,-306.021 1430.47,-313.114 1436.61,-316.474\"/>\r\n</g>\r\n<!-- 27 -->\r\n<g id=\"node28\" class=\"node\"><title>27</title>\r\n<path fill=\"#46a3e7\" stroke=\"black\" d=\"M1437.5,-187C1437.5,-187 1353.5,-187 1353.5,-187 1347.5,-187 1341.5,-181 1341.5,-175 1341.5,-175 1341.5,-116 1341.5,-116 1341.5,-110 1347.5,-104 1353.5,-104 1353.5,-104 1437.5,-104 1437.5,-104 1443.5,-104 1449.5,-110 1449.5,-116 1449.5,-116 1449.5,-175 1449.5,-175 1449.5,-181 1443.5,-187 1437.5,-187\"/>\r\n<text text-anchor=\"start\" x=\"1349.5\" y=\"-171.8\" font-family=\"Helvetica,sans-Serif\" font-size=\"14.00\">likeability ≤ 2.5</text>\r\n<text text-anchor=\"start\" x=\"1358\" y=\"-156.8\" font-family=\"Helvetica,sans-Serif\" font-size=\"14.00\">gini = 0.112</text>\r\n<text text-anchor=\"start\" x=\"1352\" y=\"-141.8\" font-family=\"Helvetica,sans-Serif\" font-size=\"14.00\">samples = 67</text>\r\n<text text-anchor=\"start\" x=\"1351\" y=\"-126.8\" font-family=\"Helvetica,sans-Serif\" font-size=\"14.00\">value = [4, 63]</text>\r\n<text text-anchor=\"start\" x=\"1350.5\" y=\"-111.8\" font-family=\"Helvetica,sans-Serif\" font-size=\"14.00\">class = invited</text>\r\n</g>\r\n<!-- 26&#45;&gt;27 -->\r\n<g id=\"edge27\" class=\"edge\"><title>26&#45;&gt;27</title>\r\n<path fill=\"none\" stroke=\"black\" d=\"M1437.95,-222.907C1433.11,-214.195 1427.94,-204.897 1422.94,-195.893\"/>\r\n<polygon fill=\"black\" stroke=\"black\" points=\"1425.93,-194.063 1418.01,-187.021 1419.81,-197.462 1425.93,-194.063\"/>\r\n</g>\r\n<!-- 30 -->\r\n<g id=\"node31\" class=\"node\"><title>30</title>\r\n<path fill=\"#399de5\" stroke=\"black\" d=\"M1569,-179.5C1569,-179.5 1480,-179.5 1480,-179.5 1474,-179.5 1468,-173.5 1468,-167.5 1468,-167.5 1468,-123.5 1468,-123.5 1468,-117.5 1474,-111.5 1480,-111.5 1480,-111.5 1569,-111.5 1569,-111.5 1575,-111.5 1581,-117.5 1581,-123.5 1581,-123.5 1581,-167.5 1581,-167.5 1581,-173.5 1575,-179.5 1569,-179.5\"/>\r\n<text text-anchor=\"start\" x=\"1495.5\" y=\"-164.3\" font-family=\"Helvetica,sans-Serif\" font-size=\"14.00\">gini = 0.0</text>\r\n<text text-anchor=\"start\" x=\"1477\" y=\"-149.3\" font-family=\"Helvetica,sans-Serif\" font-size=\"14.00\">samples = 100</text>\r\n<text text-anchor=\"start\" x=\"1476\" y=\"-134.3\" font-family=\"Helvetica,sans-Serif\" font-size=\"14.00\">value = [0, 100]</text>\r\n<text text-anchor=\"start\" x=\"1479.5\" y=\"-119.3\" font-family=\"Helvetica,sans-Serif\" font-size=\"14.00\">class = invited</text>\r\n</g>\r\n<!-- 26&#45;&gt;30 -->\r\n<g id=\"edge30\" class=\"edge\"><title>26&#45;&gt;30</title>\r\n<path fill=\"none\" stroke=\"black\" d=\"M1482.7,-222.907C1488.74,-211.873 1495.29,-199.898 1501.38,-188.773\"/>\r\n<polygon fill=\"black\" stroke=\"black\" points=\"1504.63,-190.12 1506.36,-179.667 1498.49,-186.76 1504.63,-190.12\"/>\r\n</g>\r\n<!-- 28 -->\r\n<g id=\"node29\" class=\"node\"><title>28</title>\r\n<path fill=\"#42a1e6\" stroke=\"black\" d=\"M1374.5,-68C1374.5,-68 1292.5,-68 1292.5,-68 1286.5,-68 1280.5,-62 1280.5,-56 1280.5,-56 1280.5,-12 1280.5,-12 1280.5,-6 1286.5,-0 1292.5,-0 1292.5,-0 1374.5,-0 1374.5,-0 1380.5,-0 1386.5,-6 1386.5,-12 1386.5,-12 1386.5,-56 1386.5,-56 1386.5,-62 1380.5,-68 1374.5,-68\"/>\r\n<text text-anchor=\"start\" x=\"1296\" y=\"-52.8\" font-family=\"Helvetica,sans-Serif\" font-size=\"14.00\">gini = 0.083</text>\r\n<text text-anchor=\"start\" x=\"1290\" y=\"-37.8\" font-family=\"Helvetica,sans-Serif\" font-size=\"14.00\">samples = 46</text>\r\n<text text-anchor=\"start\" x=\"1289\" y=\"-22.8\" font-family=\"Helvetica,sans-Serif\" font-size=\"14.00\">value = [2, 44]</text>\r\n<text text-anchor=\"start\" x=\"1288.5\" y=\"-7.8\" font-family=\"Helvetica,sans-Serif\" font-size=\"14.00\">class = invited</text>\r\n</g>\r\n<!-- 27&#45;&gt;28 -->\r\n<g id=\"edge28\" class=\"edge\"><title>27&#45;&gt;28</title>\r\n<path fill=\"none\" stroke=\"black\" d=\"M1372.41,-103.726C1367.51,-95.0615 1362.32,-85.8962 1357.38,-77.1802\"/>\r\n<polygon fill=\"black\" stroke=\"black\" points=\"1360.33,-75.277 1352.35,-68.2996 1354.24,-78.726 1360.33,-75.277\"/>\r\n</g>\r\n<!-- 29 -->\r\n<g id=\"node30\" class=\"node\"><title>29</title>\r\n<path fill=\"#4ea7e8\" stroke=\"black\" d=\"M1498.5,-68C1498.5,-68 1416.5,-68 1416.5,-68 1410.5,-68 1404.5,-62 1404.5,-56 1404.5,-56 1404.5,-12 1404.5,-12 1404.5,-6 1410.5,-0 1416.5,-0 1416.5,-0 1498.5,-0 1498.5,-0 1504.5,-0 1510.5,-6 1510.5,-12 1510.5,-12 1510.5,-56 1510.5,-56 1510.5,-62 1504.5,-68 1498.5,-68\"/>\r\n<text text-anchor=\"start\" x=\"1420\" y=\"-52.8\" font-family=\"Helvetica,sans-Serif\" font-size=\"14.00\">gini = 0.172</text>\r\n<text text-anchor=\"start\" x=\"1414\" y=\"-37.8\" font-family=\"Helvetica,sans-Serif\" font-size=\"14.00\">samples = 21</text>\r\n<text text-anchor=\"start\" x=\"1413\" y=\"-22.8\" font-family=\"Helvetica,sans-Serif\" font-size=\"14.00\">value = [2, 19]</text>\r\n<text text-anchor=\"start\" x=\"1412.5\" y=\"-7.8\" font-family=\"Helvetica,sans-Serif\" font-size=\"14.00\">class = invited</text>\r\n</g>\r\n<!-- 27&#45;&gt;29 -->\r\n<g id=\"edge29\" class=\"edge\"><title>27&#45;&gt;29</title>\r\n<path fill=\"none\" stroke=\"black\" d=\"M1418.59,-103.726C1423.49,-95.0615 1428.68,-85.8962 1433.62,-77.1802\"/>\r\n<polygon fill=\"black\" stroke=\"black\" points=\"1436.76,-78.726 1438.65,-68.2996 1430.67,-75.277 1436.76,-78.726\"/>\r\n</g>\r\n</g>\r\n</svg>\r\n",
      "text/plain": "<graphviz.files.Source at 0x230cd90b670>"
     },
     "execution_count": 13,
     "metadata": {},
     "output_type": "execute_result"
    }
   ],
   "source": [
    "# Generete dot file for tree and visualize using graphviz\n",
    "import graphviz \n",
    "\n",
    "\n",
    "dot_data = tree.export_graphviz(clf, out_file=None,feature_names=mood_person_combined.columns,class_names=['not invited','invited'],filled=True, rounded=True,special_characters=True)  \n",
    "graph = graphviz.Source(dot_data)\n",
    "graph "
   ]
  },
  {
   "cell_type": "code",
   "execution_count": null,
   "metadata": {},
   "outputs": [],
   "source": [
    "# Multiple ELM\n",
    "import kernel_elm as elm\n",
    "from sklearn.metrics import classification_report, confusion_matrix,recall_score\n",
    "\n",
    "\n",
    "variables_mood = [labels['gold_gt_min_aro'],labels['gold_gt_min_like'],labels['gold_gt_min_val'],data_all_thomas['arousal'],data_all_thomas['likeability'],data_all_thomas['valence']]\n",
    "variables_personality_binary = [data_all_thomas.agreeableness_binary, data_all_thomas.conscientiousness_binary, data_all_thomas.extraversion_binary, data_all_thomas.neuroticism_binary, data_all_thomas.openness_binary, data_all_thomas.interview_binary]\n",
    "variables_personality_continuous = [data_all_thomas.agreeableness, data_all_thomas.conscientiousness, data_all_thomas.extraversion, data_all_thomas.neuroticism, data_all_thomas.openness, data_all_thomas.interview]\n",
    "\n",
    "hyperparams_c = [100000,10000,1000,100,10,1,0.1,0.01,0.001,0.0001,0.00001]\n",
    "gammas = [100,10,1,0.1,0.01,0.001,0.0001,0.00001,0.000001]\n",
    "weights = [True, False]\n",
    "\n",
    "report_kelms = pd.DataFrame(columns=['variable'] + hyperparams_c)\n",
    "\n",
    "for weight in weights:\n",
    "    for variable in variables_personality_binary:\n",
    "        row = [str(weight) + ' - ' + variable.name]\n",
    "        for c_var in hyperparams_c:\n",
    "            X_train, X_test, y_train, y_test = train_test_split(video_features, variable, train_size=660,test_size=300,shuffle=False)\n",
    "            X_train = X_train.to_numpy()\n",
    "            X_test = X_test.to_numpy()\n",
    "            y_train = y_train.to_numpy()\n",
    "            y_test = y_test.to_numpy()\n",
    "            kelm = elm.Extreme_Learning_Machine(C=c_var, kernel='linear', weighted=weight, model_type=\"classification\")\n",
    "            kelm.train(X_train,y_train)\n",
    "            y_pred_single = kelm.test(X_test)\n",
    "            row = row + [recall_score(y_test, y_pred_single,average='macro')]\n",
    "        report_kelms = report_kelms.append(pd.Series(row,index=report_kelms.columns),ignore_index=True)\n",
    "\n",
    "\n",
    "report_kelms.to_csv('report_personality_kelm_linear_weighted_c_binary_l2.csv')"
   ]
  },
  {
   "cell_type": "code",
   "execution_count": null,
   "metadata": {},
   "outputs": [],
   "source": [
    "# Multiple ELM "
   ]
  }
 ]
}