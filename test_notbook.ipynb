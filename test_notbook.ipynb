{
 "nbformat": 4,
 "nbformat_minor": 2,
 "metadata": {
  "language_info": {
   "name": "python",
   "codemirror_mode": {
    "name": "ipython",
    "version": 3
   },
   "version": "3.8.1-final"
  },
  "orig_nbformat": 2,
  "file_extension": ".py",
  "mimetype": "text/x-python",
  "name": "python",
  "npconvert_exporter": "python",
  "pygments_lexer": "ipython3",
  "version": 3,
  "kernelspec": {
   "name": "python38164bitc1b64a04908d4aa0af06e43278af8af3",
   "display_name": "Python 3.8.1 64-bit"
  }
 },
 "cells": [
  {
   "cell_type": "code",
   "execution_count": 2,
   "metadata": {},
   "outputs": [
    {
     "data": {
      "text/plain": "0.7102272727272727"
     },
     "execution_count": 2,
     "metadata": {},
     "output_type": "execute_result"
    }
   ],
   "source": [
    "import pandas as pd\n",
    "from sklearn import svm\n",
    "\n",
    "X_train = pd.read_csv('Features.IS10.train.csv')\n",
    "y_train = pd.read_csv('metadata_labels_train.csv')\n",
    "\n",
    "X_test = pd.read_csv('Features.IS10.test.csv')\n",
    "y_test = pd.read_csv('metadata_labels_test.csv')\n",
    "\n",
    "y_train = y_train.take([3], axis=1)\n",
    "y_test = y_test.take([3], axis=1)\n",
    "\n",
    "model = svm.LinearSVC(multi_class='ovr')\n",
    "model.fit(X_train, y_train)\n",
    "\n",
    "model.score(X_test, y_train)"
   ]
  },
  {
   "cell_type": "code",
   "execution_count": null,
   "metadata": {},
   "outputs": [],
   "source": []
  }
 ]
}